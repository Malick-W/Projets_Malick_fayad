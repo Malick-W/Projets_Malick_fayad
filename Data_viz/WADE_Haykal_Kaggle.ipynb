{
 "cells": [
  {
   "cell_type": "markdown",
   "metadata": {},
   "source": [
    "# Master Data Science Data_VIZ\n",
    "### WADE El Hadji Malick\n",
    "### HAYKAL Fayad"
   ]
  },
  {
   "cell_type": "code",
   "execution_count": 2,
   "metadata": {},
   "outputs": [
    {
     "name": "stdout",
     "output_type": "stream",
     "text": [
      "/home/jovyan/work\n"
     ]
    },
    {
     "data": {
      "text/plain": [
       "['.ipynb_checkpoints',\n",
       " '.RData',\n",
       " '.Rhistory',\n",
       " 'essais.txt',\n",
       " 'Google_viz.csv',\n",
       " 'README.md',\n",
       " 'script_house.ipynb',\n",
       " 'synthese.R',\n",
       " 'Synthese_donnees_des_semis.csv',\n",
       " 'Synthese_donnees_des_semis.xlsx',\n",
       " 'synthese_V2.R',\n",
       " 'WADE_Haykal.ipynb',\n",
       " 'WADE_Haykal.py',\n",
       " 'WADE_Haykal_Kaggle.ipynb',\n",
       " 'WADE_Haykal_R.ipynb']"
      ]
     },
     "execution_count": 2,
     "metadata": {},
     "output_type": "execute_result"
    }
   ],
   "source": [
    "import os\n",
    "\n",
    "print(os.getcwd())\n",
    "os.listdir()"
   ]
  },
  {
   "cell_type": "markdown",
   "metadata": {},
   "source": [
    "## 1. Nettoyage des données "
   ]
  },
  {
   "cell_type": "code",
   "execution_count": 3,
   "metadata": {
    "scrolled": true
   },
   "outputs": [
    {
     "data": {
      "text/html": [
       "<div>\n",
       "<style scoped>\n",
       "    .dataframe tbody tr th:only-of-type {\n",
       "        vertical-align: middle;\n",
       "    }\n",
       "\n",
       "    .dataframe tbody tr th {\n",
       "        vertical-align: top;\n",
       "    }\n",
       "\n",
       "    .dataframe thead th {\n",
       "        text-align: right;\n",
       "    }\n",
       "</style>\n",
       "<table border=\"1\" class=\"dataframe\">\n",
       "  <thead>\n",
       "    <tr style=\"text-align: right;\">\n",
       "      <th></th>\n",
       "      <th>Bancs</th>\n",
       "      <th>camera</th>\n",
       "      <th>zone</th>\n",
       "      <th>Pop</th>\n",
       "      <th>5_degres_C_TMG_h</th>\n",
       "      <th>5_degres_C_TMG_j</th>\n",
       "      <th>Aire_sous_la_courbe</th>\n",
       "      <th>15_j</th>\n",
       "      <th>16_j</th>\n",
       "      <th>17_j</th>\n",
       "      <th>18_j</th>\n",
       "      <th>19_j</th>\n",
       "      <th>20_j</th>\n",
       "      <th>21_j</th>\n",
       "    </tr>\n",
       "  </thead>\n",
       "  <tbody>\n",
       "    <tr>\n",
       "      <td>0</td>\n",
       "      <td>3.0</td>\n",
       "      <td>1.0</td>\n",
       "      <td>11.0</td>\n",
       "      <td>Témoin</td>\n",
       "      <td>414.00</td>\n",
       "      <td>17.25</td>\n",
       "      <td>2652.0</td>\n",
       "      <td>4.0</td>\n",
       "      <td>16.0</td>\n",
       "      <td>20.0</td>\n",
       "      <td>24.0</td>\n",
       "      <td>32.0</td>\n",
       "      <td>36.0</td>\n",
       "      <td>40.0</td>\n",
       "    </tr>\n",
       "    <tr>\n",
       "      <td>1</td>\n",
       "      <td>3.0</td>\n",
       "      <td>2.0</td>\n",
       "      <td>11.0</td>\n",
       "      <td>Témoin</td>\n",
       "      <td>430.86</td>\n",
       "      <td>17.95</td>\n",
       "      <td>2652.0</td>\n",
       "      <td>0.0</td>\n",
       "      <td>4.0</td>\n",
       "      <td>4.0</td>\n",
       "      <td>12.0</td>\n",
       "      <td>24.0</td>\n",
       "      <td>28.0</td>\n",
       "      <td>28.0</td>\n",
       "    </tr>\n",
       "    <tr>\n",
       "      <td>2</td>\n",
       "      <td>3.0</td>\n",
       "      <td>3.0</td>\n",
       "      <td>11.0</td>\n",
       "      <td>Témoin</td>\n",
       "      <td>382.86</td>\n",
       "      <td>15.95</td>\n",
       "      <td>2652.0</td>\n",
       "      <td>8.0</td>\n",
       "      <td>12.0</td>\n",
       "      <td>20.0</td>\n",
       "      <td>20.0</td>\n",
       "      <td>20.0</td>\n",
       "      <td>24.0</td>\n",
       "      <td>28.0</td>\n",
       "    </tr>\n",
       "    <tr>\n",
       "      <td>3</td>\n",
       "      <td>3.0</td>\n",
       "      <td>4.0</td>\n",
       "      <td>11.0</td>\n",
       "      <td>Témoin</td>\n",
       "      <td>420.00</td>\n",
       "      <td>17.50</td>\n",
       "      <td>2652.0</td>\n",
       "      <td>4.0</td>\n",
       "      <td>4.0</td>\n",
       "      <td>4.0</td>\n",
       "      <td>4.0</td>\n",
       "      <td>12.0</td>\n",
       "      <td>16.0</td>\n",
       "      <td>16.0</td>\n",
       "    </tr>\n",
       "    <tr>\n",
       "      <td>4</td>\n",
       "      <td>4.0</td>\n",
       "      <td>1.0</td>\n",
       "      <td>11.0</td>\n",
       "      <td>Témoin</td>\n",
       "      <td>432.89</td>\n",
       "      <td>18.04</td>\n",
       "      <td>2646.0</td>\n",
       "      <td>4.0</td>\n",
       "      <td>4.0</td>\n",
       "      <td>16.0</td>\n",
       "      <td>16.0</td>\n",
       "      <td>24.0</td>\n",
       "      <td>32.0</td>\n",
       "      <td>36.0</td>\n",
       "    </tr>\n",
       "    <tr>\n",
       "      <td>5</td>\n",
       "      <td>4.0</td>\n",
       "      <td>2.0</td>\n",
       "      <td>11.0</td>\n",
       "      <td>Témoin</td>\n",
       "      <td>413.82</td>\n",
       "      <td>17.24</td>\n",
       "      <td>2646.0</td>\n",
       "      <td>8.0</td>\n",
       "      <td>12.0</td>\n",
       "      <td>20.0</td>\n",
       "      <td>32.0</td>\n",
       "      <td>36.0</td>\n",
       "      <td>36.0</td>\n",
       "      <td>44.0</td>\n",
       "    </tr>\n",
       "    <tr>\n",
       "      <td>6</td>\n",
       "      <td>4.0</td>\n",
       "      <td>3.0</td>\n",
       "      <td>11.0</td>\n",
       "      <td>Témoin</td>\n",
       "      <td>446.80</td>\n",
       "      <td>18.62</td>\n",
       "      <td>2646.0</td>\n",
       "      <td>4.0</td>\n",
       "      <td>4.0</td>\n",
       "      <td>8.0</td>\n",
       "      <td>16.0</td>\n",
       "      <td>20.0</td>\n",
       "      <td>24.0</td>\n",
       "      <td>40.0</td>\n",
       "    </tr>\n",
       "    <tr>\n",
       "      <td>7</td>\n",
       "      <td>4.0</td>\n",
       "      <td>4.0</td>\n",
       "      <td>11.0</td>\n",
       "      <td>Témoin</td>\n",
       "      <td>429.60</td>\n",
       "      <td>17.90</td>\n",
       "      <td>2646.0</td>\n",
       "      <td>0.0</td>\n",
       "      <td>0.0</td>\n",
       "      <td>8.0</td>\n",
       "      <td>8.0</td>\n",
       "      <td>12.0</td>\n",
       "      <td>20.0</td>\n",
       "      <td>20.0</td>\n",
       "    </tr>\n",
       "    <tr>\n",
       "      <td>8</td>\n",
       "      <td>3.0</td>\n",
       "      <td>1.0</td>\n",
       "      <td>11.0</td>\n",
       "      <td>Témoin</td>\n",
       "      <td>354.22</td>\n",
       "      <td>14.76</td>\n",
       "      <td>5731.2</td>\n",
       "      <td>16.0</td>\n",
       "      <td>28.0</td>\n",
       "      <td>28.0</td>\n",
       "      <td>32.0</td>\n",
       "      <td>36.0</td>\n",
       "      <td>36.0</td>\n",
       "      <td>36.0</td>\n",
       "    </tr>\n",
       "    <tr>\n",
       "      <td>9</td>\n",
       "      <td>3.0</td>\n",
       "      <td>2.0</td>\n",
       "      <td>26.0</td>\n",
       "      <td>Témoin</td>\n",
       "      <td>377.78</td>\n",
       "      <td>15.74</td>\n",
       "      <td>5731.2</td>\n",
       "      <td>12.0</td>\n",
       "      <td>20.0</td>\n",
       "      <td>20.0</td>\n",
       "      <td>20.0</td>\n",
       "      <td>32.0</td>\n",
       "      <td>36.0</td>\n",
       "      <td>36.0</td>\n",
       "    </tr>\n",
       "  </tbody>\n",
       "</table>\n",
       "</div>"
      ],
      "text/plain": [
       "   Bancs  camera  zone     Pop  5_degres_C_TMG_h  5_degres_C_TMG_j  \\\n",
       "0    3.0     1.0  11.0  Témoin            414.00             17.25   \n",
       "1    3.0     2.0  11.0  Témoin            430.86             17.95   \n",
       "2    3.0     3.0  11.0  Témoin            382.86             15.95   \n",
       "3    3.0     4.0  11.0  Témoin            420.00             17.50   \n",
       "4    4.0     1.0  11.0  Témoin            432.89             18.04   \n",
       "5    4.0     2.0  11.0  Témoin            413.82             17.24   \n",
       "6    4.0     3.0  11.0  Témoin            446.80             18.62   \n",
       "7    4.0     4.0  11.0  Témoin            429.60             17.90   \n",
       "8    3.0     1.0  11.0  Témoin            354.22             14.76   \n",
       "9    3.0     2.0  26.0  Témoin            377.78             15.74   \n",
       "\n",
       "   Aire_sous_la_courbe  15_j  16_j  17_j  18_j  19_j  20_j  21_j  \n",
       "0               2652.0   4.0  16.0  20.0  24.0  32.0  36.0  40.0  \n",
       "1               2652.0   0.0   4.0   4.0  12.0  24.0  28.0  28.0  \n",
       "2               2652.0   8.0  12.0  20.0  20.0  20.0  24.0  28.0  \n",
       "3               2652.0   4.0   4.0   4.0   4.0  12.0  16.0  16.0  \n",
       "4               2646.0   4.0   4.0  16.0  16.0  24.0  32.0  36.0  \n",
       "5               2646.0   8.0  12.0  20.0  32.0  36.0  36.0  44.0  \n",
       "6               2646.0   4.0   4.0   8.0  16.0  20.0  24.0  40.0  \n",
       "7               2646.0   0.0   0.0   8.0   8.0  12.0  20.0  20.0  \n",
       "8               5731.2  16.0  28.0  28.0  32.0  36.0  36.0  36.0  \n",
       "9               5731.2  12.0  20.0  20.0  20.0  32.0  36.0  36.0  "
      ]
     },
     "execution_count": 3,
     "metadata": {},
     "output_type": "execute_result"
    }
   ],
   "source": [
    "import pandas as pd\n",
    "import numpy as np\n",
    "\n",
    "pd.set_option('display.max_rows', 500)\n",
    "pd.set_option('display.max_columns', 500)\n",
    "\n",
    "#path_School = \"/users/mmath/wade/Bureau/Master_DS/Projets/Data_viz/Synthese_donnees_des_semis.csv\"\n",
    "path_Malick = \"Synthese_donnees_des_semis.csv\"\n",
    "\n",
    "df = pd.read_csv(path_Malick,  sep='\\t',  decimal=\",\")\n",
    "\n",
    "df.head(10)"
   ]
  },
  {
   "cell_type": "code",
   "execution_count": 4,
   "metadata": {},
   "outputs": [
    {
     "name": "stdout",
     "output_type": "stream",
     "text": [
      "Lignes:  961\n",
      "Colonnes:  14\n",
      "---------------\n",
      "\n",
      "Variables:\n",
      "Bancs                  float64\n",
      "camera                 float64\n",
      "zone                   float64\n",
      "Pop                     object\n",
      "5_degres_C_TMG_h       float64\n",
      "5_degres_C_TMG_j       float64\n",
      "Aire_sous_la_courbe    float64\n",
      "15_j                   float64\n",
      "16_j                   float64\n",
      "17_j                   float64\n",
      "18_j                   float64\n",
      "19_j                   float64\n",
      "20_j                   float64\n",
      "21_j                   float64\n",
      "dtype: object\n",
      "\n",
      "Valeurs uniques :\n",
      "Bancs                    2\n",
      "camera                   4\n",
      "zone                    24\n",
      "Pop                      6\n",
      "5_degres_C_TMG_h       699\n",
      "5_degres_C_TMG_j       365\n",
      "Aire_sous_la_courbe    686\n",
      "15_j                    17\n",
      "16_j                    20\n",
      "17_j                    22\n",
      "18_j                    23\n",
      "19_j                    23\n",
      "20_j                    24\n",
      "21_j                    25\n",
      "dtype: int64\n"
     ]
    }
   ],
   "source": [
    "print (\"Lignes: \" ,df.shape[0])\n",
    "print (\"Colonnes: \" ,df.shape[1])\n",
    "print(\"---------------\")\n",
    "print (\"\\nVariables:\")\n",
    "print(df.dtypes)\n",
    "print (\"\\nValeurs uniques :\")\n",
    "print(df.nunique())"
   ]
  },
  {
   "cell_type": "code",
   "execution_count": 5,
   "metadata": {},
   "outputs": [
    {
     "name": "stdout",
     "output_type": "stream",
     "text": [
      "\n",
      "Total des valeurs manquantes :   16\n",
      "\n",
      "\n",
      "Bancs                  1\n",
      "camera                 1\n",
      "zone                   1\n",
      "Pop                    1\n",
      "5_degres_C_TMG_h       2\n",
      "5_degres_C_TMG_j       2\n",
      "Aire_sous_la_courbe    1\n",
      "15_j                   1\n",
      "16_j                   1\n",
      "17_j                   1\n",
      "18_j                   1\n",
      "19_j                   1\n",
      "20_j                   1\n",
      "21_j                   1\n",
      "dtype: int64\n"
     ]
    }
   ],
   "source": [
    "print (\"\\nTotal des valeurs manquantes :  \",df.isnull().sum().values.sum())\n",
    "\n",
    "print(\"\\n\")\n",
    "print(df.isnull().sum())"
   ]
  },
  {
   "cell_type": "markdown",
   "metadata": {},
   "source": [
    "On voit que notre jeux de données posséde des lignes avec avec au moins un e valeur manquante.  \n",
    "On choisit de les supprimer, ce qui représente une perte de 2 lignes d'observations de données"
   ]
  },
  {
   "cell_type": "code",
   "execution_count": 6,
   "metadata": {},
   "outputs": [
    {
     "name": "stdout",
     "output_type": "stream",
     "text": [
      "En supprimant les lignes avec des valeurs manquantes, on a une perte de données de  0.02 %\n"
     ]
    }
   ],
   "source": [
    "Perte_de_donnees = df.shape[0]\n",
    "df = df.dropna()\n",
    "\n",
    "Perte_de_donnees = (Perte_de_donnees - df.shape[0])/100\n",
    "\n",
    "print(\"En supprimant les lignes avec des valeurs manquantes, on a une perte de données de \", Perte_de_donnees,\"%\")"
   ]
  },
  {
   "cell_type": "code",
   "execution_count": 7,
   "metadata": {},
   "outputs": [
    {
     "data": {
      "text/plain": [
       "Bancs                  0\n",
       "camera                 0\n",
       "zone                   0\n",
       "Pop                    0\n",
       "5_degres_C_TMG_h       0\n",
       "5_degres_C_TMG_j       0\n",
       "Aire_sous_la_courbe    0\n",
       "15_j                   0\n",
       "16_j                   0\n",
       "17_j                   0\n",
       "18_j                   0\n",
       "19_j                   0\n",
       "20_j                   0\n",
       "21_j                   0\n",
       "dtype: int64"
      ]
     },
     "execution_count": 7,
     "metadata": {},
     "output_type": "execute_result"
    }
   ],
   "source": [
    "df.isnull().sum()"
   ]
  },
  {
   "cell_type": "code",
   "execution_count": 8,
   "metadata": {
    "scrolled": true
   },
   "outputs": [],
   "source": [
    "import seaborn as sns\n",
    "\n",
    "Col_pairplot = [\"5_degres_C_TMG_h\", \"5_degres_C_TMG_j\", \"Aire_sous_la_courbe\", \"15_j\", \"16_j\", \"17_j\", \"18_j\", \"19_j\", \"20_j\", \"21_j\"]\n",
    "\n",
    "# sns.set(style=\"ticks\", color_codes=True)\n",
    "# g = sns.pairplot(df, vars=Col_pairplot, hue=\"Pop\", markers=\"+\", height=3.5)\n",
    "# g"
   ]
  },
  {
   "cell_type": "code",
   "execution_count": null,
   "metadata": {},
   "outputs": [],
   "source": []
  },
  {
   "cell_type": "markdown",
   "metadata": {},
   "source": [
    "## 2. Réduction de dimensions / ACP"
   ]
  },
  {
   "cell_type": "code",
   "execution_count": 9,
   "metadata": {},
   "outputs": [
    {
     "data": {
      "image/png": "[encoded data removed]",
      "text/plain": [
       "<Figure size 864x864 with 2 Axes>"
      ]
     },
     "metadata": {
      "needs_background": "light"
     },
     "output_type": "display_data"
    }
   ],
   "source": [
    "import matplotlib.pyplot as plt\n",
    "\n",
    "fig = plt.figure(1, figsize=(12, 12))\n",
    "\n",
    "sns.heatmap(round(df[Col_pairplot].corr(),2), cmap=sns.diverging_palette(20, 220, n=200),annot=True, fmt=\".2f\")\n",
    "plt.show()"
   ]
  },
  {
   "cell_type": "raw",
   "metadata": {},
   "source": [
    "On remarque que plusieurs variables sont fortement corrélées entre elles et deux variables sont parfaitement corrélée(\"5_degres_C_TMG_h\" et \"5_degres_C_TMG_j\").\n",
    "On supprime la variable df[\"5_degres_C_TMG_h\"]"
   ]
  },
  {
   "cell_type": "code",
   "execution_count": 10,
   "metadata": {},
   "outputs": [],
   "source": [
    "df.drop([\"5_degres_C_TMG_h\"], axis = 1, inplace = True) "
   ]
  },
  {
   "cell_type": "code",
   "execution_count": 11,
   "metadata": {},
   "outputs": [],
   "source": [
    "#classe pour l'ACP\n",
    "from sklearn.decomposition import PCA\n",
    "\n",
    "Col_ACP = [\"15_j\", \"16_j\", \"17_j\", \"18_j\", \"19_j\", \"20_j\", \"21_j\"]\n",
    "\n",
    "#instanciation\n",
    "acp = PCA(n_components=3)\n",
    "\n",
    "#calculs\n",
    "acp.fit(df[Col_ACP])\n",
    "ACP_parielle = acp.transform(df[Col_ACP])"
   ]
  },
  {
   "cell_type": "code",
   "execution_count": 12,
   "metadata": {},
   "outputs": [
    {
     "data": {
      "text/plain": [
       "array([0.92431978, 0.05146348, 0.01074968])"
      ]
     },
     "execution_count": 12,
     "metadata": {},
     "output_type": "execute_result"
    }
   ],
   "source": [
    "#proportions de variance associées aux axes\n",
    "acp.explained_variance_ratio_"
   ]
  },
  {
   "cell_type": "code",
   "execution_count": 13,
   "metadata": {},
   "outputs": [
    {
     "name": "stdout",
     "output_type": "stream",
     "text": [
      "Proportion de variance associée à la premiére axe: 0.9865\n"
     ]
    }
   ],
   "source": [
    "#proportions de variance total associées aux axes\n",
    "print(\"Proportion de variance associée à la premiére axe:\",round(sum(acp.explained_variance_ratio_),4))"
   ]
  },
  {
   "cell_type": "code",
   "execution_count": 14,
   "metadata": {},
   "outputs": [],
   "source": [
    "df_partielle = pd.DataFrame(ACP_parielle, columns=['X1','X2', 'X3']) \n",
    "Col = [\"Bancs\", \"camera\", \"zone\", \"Pop\", \"5_degres_C_TMG_j\", \"Aire_sous_la_courbe\"]\n",
    "df_ACP_parielle = pd.concat([df[Col], df_partielle], axis=1)"
   ]
  },
  {
   "cell_type": "code",
   "execution_count": 15,
   "metadata": {},
   "outputs": [
    {
     "data": {
      "image/png": "[encoded data removed]",
      "text/plain": [
       "<Figure size 360x360 with 2 Axes>"
      ]
     },
     "metadata": {
      "needs_background": "light"
     },
     "output_type": "display_data"
    }
   ],
   "source": [
    "fig = plt.figure(1, figsize=(5, 5))\n",
    "\n",
    "sns.heatmap(round(df_ACP_parielle[[\"5_degres_C_TMG_j\", \"Aire_sous_la_courbe\", 'X1','X2','X3']].corr(),2), cmap=sns.diverging_palette(20, 220, n=200), annot=True, fmt=\".2f\")\n",
    "plt.show()"
   ]
  },
  {
   "cell_type": "raw",
   "metadata": {},
   "source": [
    "La variable \"Aire_sous_la_courbe\" est fortement corrélée avec la variable \"ACP_j\" (ce qui est plûtot rassurant). On décide de supprimer la variable \"Aire_sous_la_courbe\"."
   ]
  },
  {
   "cell_type": "code",
   "execution_count": 16,
   "metadata": {},
   "outputs": [],
   "source": [
    "df_ACP_parielle.drop([\"Aire_sous_la_courbe\"], axis = 1, inplace = True) "
   ]
  },
  {
   "cell_type": "code",
   "execution_count": 17,
   "metadata": {},
   "outputs": [
    {
     "name": "stdout",
     "output_type": "stream",
     "text": [
      "\n",
      "Total des valeurs manquantes :   8\n",
      "\n",
      "\n",
      "Bancs               1\n",
      "camera              1\n",
      "zone                1\n",
      "Pop                 1\n",
      "5_degres_C_TMG_j    1\n",
      "X1                  1\n",
      "X2                  1\n",
      "X3                  1\n",
      "dtype: int64\n"
     ]
    }
   ],
   "source": [
    "print (\"\\nTotal des valeurs manquantes :  \",df_ACP_parielle.isnull().sum().values.sum())\n",
    "\n",
    "print(\"\\n\")\n",
    "print(df_ACP_parielle.isnull().sum())"
   ]
  },
  {
   "cell_type": "code",
   "execution_count": 18,
   "metadata": {},
   "outputs": [],
   "source": [
    "df_ACP_parielle = df_ACP_parielle.dropna()"
   ]
  },
  {
   "cell_type": "code",
   "execution_count": 19,
   "metadata": {},
   "outputs": [
    {
     "data": {
      "text/html": [
       "<div>\n",
       "<style scoped>\n",
       "    .dataframe tbody tr th:only-of-type {\n",
       "        vertical-align: middle;\n",
       "    }\n",
       "\n",
       "    .dataframe tbody tr th {\n",
       "        vertical-align: top;\n",
       "    }\n",
       "\n",
       "    .dataframe thead th {\n",
       "        text-align: right;\n",
       "    }\n",
       "</style>\n",
       "<table border=\"1\" class=\"dataframe\">\n",
       "  <thead>\n",
       "    <tr style=\"text-align: right;\">\n",
       "      <th></th>\n",
       "      <th>Bancs</th>\n",
       "      <th>camera</th>\n",
       "      <th>zone</th>\n",
       "      <th>Pop</th>\n",
       "      <th>5_degres_C_TMG_j</th>\n",
       "      <th>X1</th>\n",
       "      <th>X2</th>\n",
       "      <th>X3</th>\n",
       "    </tr>\n",
       "  </thead>\n",
       "  <tbody>\n",
       "    <tr>\n",
       "      <td>0</td>\n",
       "      <td>3</td>\n",
       "      <td>1</td>\n",
       "      <td>11</td>\n",
       "      <td>Témoin</td>\n",
       "      <td>17.25</td>\n",
       "      <td>-29.347070</td>\n",
       "      <td>4.334175</td>\n",
       "      <td>0.787649</td>\n",
       "    </tr>\n",
       "    <tr>\n",
       "      <td>1</td>\n",
       "      <td>3</td>\n",
       "      <td>2</td>\n",
       "      <td>11</td>\n",
       "      <td>Témoin</td>\n",
       "      <td>17.95</td>\n",
       "      <td>-56.953843</td>\n",
       "      <td>7.857620</td>\n",
       "      <td>5.758046</td>\n",
       "    </tr>\n",
       "    <tr>\n",
       "      <td>2</td>\n",
       "      <td>3</td>\n",
       "      <td>3</td>\n",
       "      <td>11</td>\n",
       "      <td>Témoin</td>\n",
       "      <td>15.95</td>\n",
       "      <td>-46.399069</td>\n",
       "      <td>-7.491244</td>\n",
       "      <td>-1.413339</td>\n",
       "    </tr>\n",
       "    <tr>\n",
       "      <td>3</td>\n",
       "      <td>3</td>\n",
       "      <td>4</td>\n",
       "      <td>11</td>\n",
       "      <td>Témoin</td>\n",
       "      <td>17.50</td>\n",
       "      <td>-74.363199</td>\n",
       "      <td>-6.115965</td>\n",
       "      <td>5.094791</td>\n",
       "    </tr>\n",
       "    <tr>\n",
       "      <td>4</td>\n",
       "      <td>4</td>\n",
       "      <td>1</td>\n",
       "      <td>11</td>\n",
       "      <td>Témoin</td>\n",
       "      <td>18.04</td>\n",
       "      <td>-44.776618</td>\n",
       "      <td>6.841234</td>\n",
       "      <td>4.300309</td>\n",
       "    </tr>\n",
       "  </tbody>\n",
       "</table>\n",
       "</div>"
      ],
      "text/plain": [
       "   Bancs  camera  zone     Pop  5_degres_C_TMG_j         X1        X2  \\\n",
       "0      3       1    11  Témoin             17.25 -29.347070  4.334175   \n",
       "1      3       2    11  Témoin             17.95 -56.953843  7.857620   \n",
       "2      3       3    11  Témoin             15.95 -46.399069 -7.491244   \n",
       "3      3       4    11  Témoin             17.50 -74.363199 -6.115965   \n",
       "4      4       1    11  Témoin             18.04 -44.776618  6.841234   \n",
       "\n",
       "         X3  \n",
       "0  0.787649  \n",
       "1  5.758046  \n",
       "2 -1.413339  \n",
       "3  5.094791  \n",
       "4  4.300309  "
      ]
     },
     "execution_count": 19,
     "metadata": {},
     "output_type": "execute_result"
    }
   ],
   "source": [
    "df_ACP_parielle[[\"Bancs\", \"camera\", \"zone\"]] = df_ACP_parielle[[\"Bancs\", \"camera\", \"zone\"]].astype(int)\n",
    "df_ACP_parielle.head()"
   ]
  },
  {
   "cell_type": "markdown",
   "metadata": {},
   "source": [
    "## 3. Graphes avec une ACP partielle"
   ]
  },
  {
   "cell_type": "code",
   "execution_count": 20,
   "metadata": {},
   "outputs": [
    {
     "name": "stdout",
     "output_type": "stream",
     "text": [
      "\n",
      "Valeurs uniques :\n",
      "Bancs                    2\n",
      "camera                   4\n",
      "zone                    24\n",
      "Pop                      6\n",
      "5_degres_C_TMG_j       365\n",
      "Aire_sous_la_courbe    685\n",
      "15_j                    17\n",
      "16_j                    20\n",
      "17_j                    22\n",
      "18_j                    23\n",
      "19_j                    23\n",
      "20_j                    23\n",
      "21_j                    24\n",
      "dtype: int64\n"
     ]
    },
    {
     "data": {
      "text/html": [
       "<div>\n",
       "<style scoped>\n",
       "    .dataframe tbody tr th:only-of-type {\n",
       "        vertical-align: middle;\n",
       "    }\n",
       "\n",
       "    .dataframe tbody tr th {\n",
       "        vertical-align: top;\n",
       "    }\n",
       "\n",
       "    .dataframe thead th {\n",
       "        text-align: right;\n",
       "    }\n",
       "</style>\n",
       "<table border=\"1\" class=\"dataframe\">\n",
       "  <thead>\n",
       "    <tr style=\"text-align: right;\">\n",
       "      <th></th>\n",
       "      <th>Bancs</th>\n",
       "      <th>camera</th>\n",
       "      <th>zone</th>\n",
       "      <th>Pop</th>\n",
       "      <th>5_degres_C_TMG_j</th>\n",
       "      <th>X1</th>\n",
       "      <th>X2</th>\n",
       "      <th>X3</th>\n",
       "    </tr>\n",
       "  </thead>\n",
       "  <tbody>\n",
       "    <tr>\n",
       "      <td>0</td>\n",
       "      <td>3</td>\n",
       "      <td>1</td>\n",
       "      <td>11</td>\n",
       "      <td>Témoin</td>\n",
       "      <td>17.25</td>\n",
       "      <td>-29.347070</td>\n",
       "      <td>4.334175</td>\n",
       "      <td>0.787649</td>\n",
       "    </tr>\n",
       "    <tr>\n",
       "      <td>1</td>\n",
       "      <td>3</td>\n",
       "      <td>2</td>\n",
       "      <td>11</td>\n",
       "      <td>Témoin</td>\n",
       "      <td>17.95</td>\n",
       "      <td>-56.953843</td>\n",
       "      <td>7.857620</td>\n",
       "      <td>5.758046</td>\n",
       "    </tr>\n",
       "    <tr>\n",
       "      <td>2</td>\n",
       "      <td>3</td>\n",
       "      <td>3</td>\n",
       "      <td>11</td>\n",
       "      <td>Témoin</td>\n",
       "      <td>15.95</td>\n",
       "      <td>-46.399069</td>\n",
       "      <td>-7.491244</td>\n",
       "      <td>-1.413339</td>\n",
       "    </tr>\n",
       "    <tr>\n",
       "      <td>3</td>\n",
       "      <td>3</td>\n",
       "      <td>4</td>\n",
       "      <td>11</td>\n",
       "      <td>Témoin</td>\n",
       "      <td>17.50</td>\n",
       "      <td>-74.363199</td>\n",
       "      <td>-6.115965</td>\n",
       "      <td>5.094791</td>\n",
       "    </tr>\n",
       "    <tr>\n",
       "      <td>4</td>\n",
       "      <td>4</td>\n",
       "      <td>1</td>\n",
       "      <td>11</td>\n",
       "      <td>Témoin</td>\n",
       "      <td>18.04</td>\n",
       "      <td>-44.776618</td>\n",
       "      <td>6.841234</td>\n",
       "      <td>4.300309</td>\n",
       "    </tr>\n",
       "  </tbody>\n",
       "</table>\n",
       "</div>"
      ],
      "text/plain": [
       "   Bancs  camera  zone     Pop  5_degres_C_TMG_j         X1        X2  \\\n",
       "0      3       1    11  Témoin             17.25 -29.347070  4.334175   \n",
       "1      3       2    11  Témoin             17.95 -56.953843  7.857620   \n",
       "2      3       3    11  Témoin             15.95 -46.399069 -7.491244   \n",
       "3      3       4    11  Témoin             17.50 -74.363199 -6.115965   \n",
       "4      4       1    11  Témoin             18.04 -44.776618  6.841234   \n",
       "\n",
       "         X3  \n",
       "0  0.787649  \n",
       "1  5.758046  \n",
       "2 -1.413339  \n",
       "3  5.094791  \n",
       "4  4.300309  "
      ]
     },
     "execution_count": 20,
     "metadata": {},
     "output_type": "execute_result"
    }
   ],
   "source": [
    "print (\"\\nValeurs uniques :\")\n",
    "print(df.nunique())\n",
    "df_ACP_parielle.head()"
   ]
  },
  {
   "cell_type": "code",
   "execution_count": 21,
   "metadata": {},
   "outputs": [
    {
     "name": "stdout",
     "output_type": "stream",
     "text": [
      "     Bancs  camera  zone  Pop  5_degres_C_TMG_j         X1         X2  \\\n",
      "884      3       3    14  812             17.46   8.994540  10.545471   \n",
      "885      3       4    46  812             16.45 -93.123431 -11.390697   \n",
      "886      4       1    36  812             18.67  15.948001   7.077556   \n",
      "887      4       1    25  812             16.17  27.949884   6.415491   \n",
      "888      3       4    13  812             16.18  33.118670  17.019826   \n",
      "\n",
      "            X3  \n",
      "884  -7.682542  \n",
      "885  -0.306052  \n",
      "886  11.566082  \n",
      "887  -2.226171  \n",
      "888  -8.266869  \n"
     ]
    },
    {
     "data": {
      "text/plain": [
       "<matplotlib.axes._subplots.AxesSubplot at 0x7fb255430c18>"
      ]
     },
     "execution_count": 21,
     "metadata": {},
     "output_type": "execute_result"
    },
    {
     "data": {
      "image/png": "[encoded data removed]",
      "text/plain": [
       "<Figure size 864x864 with 1 Axes>"
      ]
     },
     "metadata": {},
     "output_type": "display_data"
    }
   ],
   "source": [
    "test = df_ACP_parielle[df_ACP_parielle[\"Pop\"] == '812']\n",
    "print(test.head())\n",
    "Y = [\"Bancs\", \"camera\", \"zone\"]\n",
    "i = 2\n",
    "\n",
    "sns.set(style=\"darkgrid\")\n",
    "filled_markers = ('o', 'X', '<',  'D','8', 's', 'p', '*', 'h', '>', 'H', 'd', 'P', '^')\n",
    "plt.figure(figsize=(12,12))\n",
    "sns.scatterplot(x=\"X1\", y=\"X2\", hue=Y[i], palette=\"viridis\", markers=filled_markers, data=test, s =50)"
   ]
  },
  {
   "cell_type": "markdown",
   "metadata": {},
   "source": [
    "## 4. Prédictions"
   ]
  },
  {
   "cell_type": "raw",
   "metadata": {},
   "source": [
    "Une tranformation des variables est necéssaire. Icic toutes les variables de types 'Object' seront indexées."
   ]
  },
  {
   "cell_type": "code",
   "execution_count": 22,
   "metadata": {},
   "outputs": [
    {
     "name": "stderr",
     "output_type": "stream",
     "text": [
      "/opt/conda/lib/python3.7/site-packages/sklearn/externals/joblib/__init__.py:15: DeprecationWarning: sklearn.externals.joblib is deprecated in 0.21 and will be removed in 0.23. Please import this functionality directly from joblib, which can be installed with: pip install joblib. If this warning is raised when loading pickled models, you may need to re-serialize those models with scikit-learn 0.21+.\n",
      "  warnings.warn(msg, category=DeprecationWarning)\n"
     ]
    }
   ],
   "source": [
    "import time\n",
    "from sklearn.preprocessing import LabelEncoder\n",
    "from sklearn.model_selection import train_test_split\n",
    "from sklearn.model_selection import GridSearchCV\n",
    "from sklearn.metrics import classification_report, confusion_matrix\n",
    "from sklearn.decomposition import PCA\n",
    "\n",
    "from sklearn.svm import SVC\n",
    "from sklearn.neighbors import KNeighborsClassifier\n",
    "from sklearn.ensemble import VotingClassifier\n",
    "from sklearn.linear_model import LogisticRegression\n",
    "\n",
    "from sklearn.ensemble import GradientBoostingRegressor\n",
    "\n",
    "from sklearn.externals import joblib # save and load models"
   ]
  },
  {
   "cell_type": "code",
   "execution_count": 23,
   "metadata": {},
   "outputs": [],
   "source": [
    "# def object_to_int(dataframe_series):\n",
    "#     \"\"\"une simple fonction d'indexation\"\"\"\n",
    "    \n",
    "#     if dataframe_series.dtype=='object':\n",
    "#         dataframe_series = LabelEncoder().fit_transform(dataframe_series)\n",
    "#     return dataframe_series"
   ]
  },
  {
   "cell_type": "code",
   "execution_count": 24,
   "metadata": {},
   "outputs": [
    {
     "data": {
      "text/html": [
       "<div>\n",
       "<style scoped>\n",
       "    .dataframe tbody tr th:only-of-type {\n",
       "        vertical-align: middle;\n",
       "    }\n",
       "\n",
       "    .dataframe tbody tr th {\n",
       "        vertical-align: top;\n",
       "    }\n",
       "\n",
       "    .dataframe thead th {\n",
       "        text-align: right;\n",
       "    }\n",
       "</style>\n",
       "<table border=\"1\" class=\"dataframe\">\n",
       "  <thead>\n",
       "    <tr style=\"text-align: right;\">\n",
       "      <th></th>\n",
       "      <th>Bancs</th>\n",
       "      <th>camera</th>\n",
       "      <th>zone</th>\n",
       "      <th>Pop</th>\n",
       "      <th>5_degres_C_TMG_j</th>\n",
       "      <th>Aire_sous_la_courbe</th>\n",
       "      <th>15_j</th>\n",
       "      <th>16_j</th>\n",
       "      <th>17_j</th>\n",
       "      <th>18_j</th>\n",
       "      <th>19_j</th>\n",
       "      <th>20_j</th>\n",
       "      <th>21_j</th>\n",
       "    </tr>\n",
       "  </thead>\n",
       "  <tbody>\n",
       "    <tr>\n",
       "      <td>0</td>\n",
       "      <td>3</td>\n",
       "      <td>1</td>\n",
       "      <td>11</td>\n",
       "      <td>Témoin</td>\n",
       "      <td>17.25</td>\n",
       "      <td>2652.0</td>\n",
       "      <td>4.0</td>\n",
       "      <td>16.0</td>\n",
       "      <td>20.0</td>\n",
       "      <td>24.0</td>\n",
       "      <td>32.0</td>\n",
       "      <td>36.0</td>\n",
       "      <td>40.0</td>\n",
       "    </tr>\n",
       "    <tr>\n",
       "      <td>1</td>\n",
       "      <td>3</td>\n",
       "      <td>2</td>\n",
       "      <td>11</td>\n",
       "      <td>Témoin</td>\n",
       "      <td>17.95</td>\n",
       "      <td>2652.0</td>\n",
       "      <td>0.0</td>\n",
       "      <td>4.0</td>\n",
       "      <td>4.0</td>\n",
       "      <td>12.0</td>\n",
       "      <td>24.0</td>\n",
       "      <td>28.0</td>\n",
       "      <td>28.0</td>\n",
       "    </tr>\n",
       "    <tr>\n",
       "      <td>2</td>\n",
       "      <td>3</td>\n",
       "      <td>3</td>\n",
       "      <td>11</td>\n",
       "      <td>Témoin</td>\n",
       "      <td>15.95</td>\n",
       "      <td>2652.0</td>\n",
       "      <td>8.0</td>\n",
       "      <td>12.0</td>\n",
       "      <td>20.0</td>\n",
       "      <td>20.0</td>\n",
       "      <td>20.0</td>\n",
       "      <td>24.0</td>\n",
       "      <td>28.0</td>\n",
       "    </tr>\n",
       "    <tr>\n",
       "      <td>3</td>\n",
       "      <td>3</td>\n",
       "      <td>4</td>\n",
       "      <td>11</td>\n",
       "      <td>Témoin</td>\n",
       "      <td>17.50</td>\n",
       "      <td>2652.0</td>\n",
       "      <td>4.0</td>\n",
       "      <td>4.0</td>\n",
       "      <td>4.0</td>\n",
       "      <td>4.0</td>\n",
       "      <td>12.0</td>\n",
       "      <td>16.0</td>\n",
       "      <td>16.0</td>\n",
       "    </tr>\n",
       "    <tr>\n",
       "      <td>4</td>\n",
       "      <td>4</td>\n",
       "      <td>1</td>\n",
       "      <td>11</td>\n",
       "      <td>Témoin</td>\n",
       "      <td>18.04</td>\n",
       "      <td>2646.0</td>\n",
       "      <td>4.0</td>\n",
       "      <td>4.0</td>\n",
       "      <td>16.0</td>\n",
       "      <td>16.0</td>\n",
       "      <td>24.0</td>\n",
       "      <td>32.0</td>\n",
       "      <td>36.0</td>\n",
       "    </tr>\n",
       "  </tbody>\n",
       "</table>\n",
       "</div>"
      ],
      "text/plain": [
       "   Bancs  camera  zone     Pop  5_degres_C_TMG_j  Aire_sous_la_courbe  15_j  \\\n",
       "0      3       1    11  Témoin             17.25               2652.0   4.0   \n",
       "1      3       2    11  Témoin             17.95               2652.0   0.0   \n",
       "2      3       3    11  Témoin             15.95               2652.0   8.0   \n",
       "3      3       4    11  Témoin             17.50               2652.0   4.0   \n",
       "4      4       1    11  Témoin             18.04               2646.0   4.0   \n",
       "\n",
       "   16_j  17_j  18_j  19_j  20_j  21_j  \n",
       "0  16.0  20.0  24.0  32.0  36.0  40.0  \n",
       "1   4.0   4.0  12.0  24.0  28.0  28.0  \n",
       "2  12.0  20.0  20.0  20.0  24.0  28.0  \n",
       "3   4.0   4.0   4.0  12.0  16.0  16.0  \n",
       "4   4.0  16.0  16.0  24.0  32.0  36.0  "
      ]
     },
     "execution_count": 24,
     "metadata": {},
     "output_type": "execute_result"
    }
   ],
   "source": [
    "Col_X = [\"Bancs\", \"camera\", \"zone\"]\n",
    "Col_Y = [\"15_j\", \"16_j\", \"17_j\", \"18_j\", \"19_j\", \"20_j\", \"21_j\"]\n",
    "\n",
    "# df = df.apply(lambda x: object_to_int(x))\n",
    "df[[\"Bancs\", \"camera\", \"zone\"]] = df[[\"Bancs\", \"camera\", \"zone\"]].astype(int)\n",
    "\n",
    "\n",
    "df.head()"
   ]
  },
  {
   "cell_type": "code",
   "execution_count": 25,
   "metadata": {
    "scrolled": false
   },
   "outputs": [
    {
     "name": "stdout",
     "output_type": "stream",
     "text": [
      "Lignes:  959\n",
      "Colonnes:  13\n",
      "---------------\n",
      "\n",
      "Variables:\n",
      "Bancs                    int64\n",
      "camera                   int64\n",
      "zone                     int64\n",
      "Pop                     object\n",
      "5_degres_C_TMG_j       float64\n",
      "Aire_sous_la_courbe    float64\n",
      "15_j                   float64\n",
      "16_j                   float64\n",
      "17_j                   float64\n",
      "18_j                   float64\n",
      "19_j                   float64\n",
      "20_j                   float64\n",
      "21_j                   float64\n",
      "dtype: object\n",
      "\n",
      "Valeurs uniques :\n",
      "Bancs                    2\n",
      "camera                   4\n",
      "zone                    24\n",
      "Pop                      6\n",
      "5_degres_C_TMG_j       365\n",
      "Aire_sous_la_courbe    685\n",
      "15_j                    17\n",
      "16_j                    20\n",
      "17_j                    22\n",
      "18_j                    23\n",
      "19_j                    23\n",
      "20_j                    23\n",
      "21_j                    24\n",
      "dtype: int64\n"
     ]
    }
   ],
   "source": [
    "print (\"Lignes: \" ,df.shape[0])\n",
    "print (\"Colonnes: \" ,df.shape[1])\n",
    "print(\"---------------\")\n",
    "print (\"\\nVariables:\")\n",
    "print(df.dtypes)\n",
    "print (\"\\nValeurs uniques :\")\n",
    "print(df.nunique())"
   ]
  },
  {
   "cell_type": "code",
   "execution_count": 26,
   "metadata": {},
   "outputs": [],
   "source": [
    "# jour = \"16_j\"\n",
    "# df = df[df[\"Pop\"] == \"802\"]\n",
    "\n",
    "# X = df[Col_X]\n",
    "# y = df[jour]\n",
    "\n",
    "\n",
    "# X_train, X_test, y_train, y_test = train_test_split(X,y,test_size = 0.25, random_state = 40)"
   ]
  },
  {
   "cell_type": "markdown",
   "metadata": {},
   "source": [
    "#### GradientBoosting"
   ]
  },
  {
   "cell_type": "code",
   "execution_count": 27,
   "metadata": {
    "scrolled": true
   },
   "outputs": [],
   "source": [
    "# #on crée un nouveau modèle gradient Boosting\n",
    "# GB = GradientBoostingRegressor()\n",
    "\n",
    "# #on crée un dictionnaire de toutes les valeurs que nous voulons tester\n",
    "# param_grid_GB = {\n",
    "#     \"learning_rate\": [0.001, 0.01, 0.05, 0.1, 0.5],\n",
    "#     \"min_samples_leaf\": [0.001, 0.005, 0.01],\n",
    "#     \"max_depth\":[3, 5, 8],\n",
    "#     \"max_features\":[\"log2\",\"sqrt\"],\n",
    "#     \"criterion\": [\"friedman_mse\"],\n",
    "#     \"subsample\":[0.5, 0.75, 1.0],\n",
    "#     \"n_estimators\":[10, 20,50, 100, 200],\n",
    "#     }\n",
    "\n",
    "# #on utilise gridsearch pour tester toutes les valeurs de param_grid\n",
    "# GB_gscv = GridSearchCV(GB, param_grid_GB, cv=5, n_jobs=-1, verbose=10)\n",
    "\n",
    "# #ajustement du modèle aux données\n",
    "# t_debut = time.time()\n",
    "# GB_gscv.fit(X_train,y_train)\n",
    "# t_fin = time.time()\n",
    "\n",
    "# temps_GB = (t_fin - t_debut)/60\n",
    "\n",
    "# #print(GB_gscv.best_params_)"
   ]
  },
  {
   "cell_type": "code",
   "execution_count": 28,
   "metadata": {},
   "outputs": [],
   "source": [
    "# from sklearn.metrics import mean_squared_error,max_error, explained_variance_score\n",
    "# from math import sqrt\n",
    "\n",
    "# rmse_test = sqrt(mean_squared_error(y_test, GB_gscv.best_estimator_.predict(X_test)))\n",
    "# max_error = max_error(y_test, GB_gscv.best_estimator_.predict(X_test))\n",
    "\n",
    "# print(\"L’erreur quadratique moyenne: %.4f\" % rmse_test)\n",
    "# print(\"L’erreur maximun: %.4f\" % max_error)"
   ]
  },
  {
   "cell_type": "code",
   "execution_count": 29,
   "metadata": {},
   "outputs": [],
   "source": [
    "# print(\"Moyenne: %.4f\" %  y_test.mean())\n",
    "# print(\"Mediane: %.4f\" %  y_test.median())\n",
    "# pd.value_counts(df[jour]).plot.bar()"
   ]
  },
  {
   "cell_type": "code",
   "execution_count": 30,
   "metadata": {},
   "outputs": [],
   "source": [
    "# # Calculate feature importances\n",
    "# importances = GB_gscv.best_estimator_.feature_importances_\n",
    "# importances"
   ]
  },
  {
   "cell_type": "code",
   "execution_count": 31,
   "metadata": {
    "scrolled": false
   },
   "outputs": [],
   "source": [
    "# model = GB_gscv.best_estimator_\n",
    "# print(model.feature_importances_) #use inbuilt class feature_importances of tree based classifiers\n",
    "# #plot graph of feature importances for better visualization\n",
    "# feat_importances = pd.Series(model.feature_importances_, index=X.columns)\n",
    "# feat_importances.nlargest(20).plot(kind='barh')\n",
    "# plt.show()"
   ]
  },
  {
   "cell_type": "code",
   "execution_count": 32,
   "metadata": {
    "scrolled": true
   },
   "outputs": [
    {
     "name": "stdout",
     "output_type": "stream",
     "text": [
      "15_j\n",
      "Fitting 5 folds for each of 1350 candidates, totalling 6750 fits\n"
     ]
    },
    {
     "name": "stderr",
     "output_type": "stream",
     "text": [
      "[Parallel(n_jobs=-1)]: Using backend LokyBackend with 4 concurrent workers.\n",
      "[Parallel(n_jobs=-1)]: Done   5 tasks      | elapsed:    1.2s\n",
      "[Parallel(n_jobs=-1)]: Done  10 tasks      | elapsed:    1.2s\n",
      "[Parallel(n_jobs=-1)]: Done  17 tasks      | elapsed:    1.3s\n",
      "[Parallel(n_jobs=-1)]: Batch computation too fast (0.1928s.) Setting batch_size=2.\n",
      "[Parallel(n_jobs=-1)]: Done  24 tasks      | elapsed:    1.3s\n",
      "[Parallel(n_jobs=-1)]: Batch computation too fast (0.0581s.) Setting batch_size=12.\n",
      "[Parallel(n_jobs=-1)]: Done  41 tasks      | elapsed:    1.5s\n",
      "[Parallel(n_jobs=-1)]: Batch computation too fast (0.1841s.) Setting batch_size=26.\n",
      "[Parallel(n_jobs=-1)]: Done 163 tasks      | elapsed:    2.9s\n",
      "[Parallel(n_jobs=-1)]: Done 449 tasks      | elapsed:    5.6s\n",
      "[Parallel(n_jobs=-1)]: Batch computation too slow (2.1546s.) Setting batch_size=13.\n",
      "[Parallel(n_jobs=-1)]: Done 735 tasks      | elapsed:    8.7s\n",
      "[Parallel(n_jobs=-1)]: Done 930 tasks      | elapsed:   10.8s\n",
      "[Parallel(n_jobs=-1)]: Done 1099 tasks      | elapsed:   13.2s\n",
      "[Parallel(n_jobs=-1)]: Done 1294 tasks      | elapsed:   15.8s\n",
      "[Parallel(n_jobs=-1)]: Done 1489 tasks      | elapsed:   17.9s\n",
      "[Parallel(n_jobs=-1)]: Done 1710 tasks      | elapsed:   20.1s\n",
      "[Parallel(n_jobs=-1)]: Done 1931 tasks      | elapsed:   22.3s\n",
      "[Parallel(n_jobs=-1)]: Done 2178 tasks      | elapsed:   25.1s\n",
      "[Parallel(n_jobs=-1)]: Done 2425 tasks      | elapsed:   28.0s\n",
      "[Parallel(n_jobs=-1)]: Done 2698 tasks      | elapsed:   32.0s\n",
      "[Parallel(n_jobs=-1)]: Done 2971 tasks      | elapsed:   35.2s\n",
      "[Parallel(n_jobs=-1)]: Done 3270 tasks      | elapsed:   38.5s\n",
      "[Parallel(n_jobs=-1)]: Done 3569 tasks      | elapsed:   42.4s\n",
      "[Parallel(n_jobs=-1)]: Done 3894 tasks      | elapsed:   47.3s\n",
      "[Parallel(n_jobs=-1)]: Done 4219 tasks      | elapsed:   51.5s\n",
      "[Parallel(n_jobs=-1)]: Done 4570 tasks      | elapsed:   55.5s\n",
      "[Parallel(n_jobs=-1)]: Done 4921 tasks      | elapsed:  1.0min\n",
      "[Parallel(n_jobs=-1)]: Done 5298 tasks      | elapsed:  1.1min\n",
      "[Parallel(n_jobs=-1)]: Done 5675 tasks      | elapsed:  1.2min\n",
      "[Parallel(n_jobs=-1)]: Done 6078 tasks      | elapsed:  1.2min\n",
      "[Parallel(n_jobs=-1)]: Done 6481 tasks      | elapsed:  1.3min\n",
      "[Parallel(n_jobs=-1)]: Done 6750 out of 6750 | elapsed:  1.4min finished\n",
      "/opt/conda/lib/python3.7/site-packages/sklearn/model_selection/_search.py:814: DeprecationWarning: The default of the `iid` parameter will change from True to False in version 0.22 and will be removed in 0.24. This will change numeric results when test-set sizes are unequal.\n",
      "  DeprecationWarning)\n"
     ]
    },
    {
     "name": "stdout",
     "output_type": "stream",
     "text": [
      "[0.11385863 0.42864245 0.45749892]\n"
     ]
    },
    {
     "data": {
      "image/png": "[encoded data removed]",
      "text/plain": [
       "<Figure size 432x288 with 1 Axes>"
      ]
     },
     "metadata": {},
     "output_type": "display_data"
    },
    {
     "name": "stdout",
     "output_type": "stream",
     "text": [
      "16_j\n",
      "Fitting 5 folds for each of 1350 candidates, totalling 6750 fits\n"
     ]
    },
    {
     "name": "stderr",
     "output_type": "stream",
     "text": [
      "[Parallel(n_jobs=-1)]: Using backend LokyBackend with 4 concurrent workers.\n",
      "[Parallel(n_jobs=-1)]: Batch computation too fast (0.0174s.) Setting batch_size=22.\n",
      "[Parallel(n_jobs=-1)]: Done   5 tasks      | elapsed:    0.1s\n",
      "[Parallel(n_jobs=-1)]: Done  52 tasks      | elapsed:    0.5s\n",
      "[Parallel(n_jobs=-1)]: Done 206 tasks      | elapsed:    2.5s\n",
      "[Parallel(n_jobs=-1)]: Done 360 tasks      | elapsed:    4.4s\n",
      "[Parallel(n_jobs=-1)]: Batch computation too slow (2.1011s.) Setting batch_size=11.\n",
      "[Parallel(n_jobs=-1)]: Done 525 tasks      | elapsed:    6.6s\n",
      "[Parallel(n_jobs=-1)]: Done 646 tasks      | elapsed:    7.7s\n",
      "[Parallel(n_jobs=-1)]: Done 767 tasks      | elapsed:    9.2s\n",
      "[Parallel(n_jobs=-1)]: Done 888 tasks      | elapsed:   11.1s\n",
      "[Parallel(n_jobs=-1)]: Done 1031 tasks      | elapsed:   13.5s\n",
      "[Parallel(n_jobs=-1)]: Done 1174 tasks      | elapsed:   15.3s\n",
      "[Parallel(n_jobs=-1)]: Done 1339 tasks      | elapsed:   18.1s\n",
      "[Parallel(n_jobs=-1)]: Done 1504 tasks      | elapsed:   20.1s\n",
      "[Parallel(n_jobs=-1)]: Done 1691 tasks      | elapsed:   22.4s\n",
      "[Parallel(n_jobs=-1)]: Done 1878 tasks      | elapsed:   24.5s\n",
      "[Parallel(n_jobs=-1)]: Done 2087 tasks      | elapsed:   27.3s\n",
      "[Parallel(n_jobs=-1)]: Done 2296 tasks      | elapsed:   30.0s\n",
      "[Parallel(n_jobs=-1)]: Done 2527 tasks      | elapsed:   33.7s\n",
      "[Parallel(n_jobs=-1)]: Done 2758 tasks      | elapsed:   37.0s\n",
      "[Parallel(n_jobs=-1)]: Done 3011 tasks      | elapsed:   39.9s\n",
      "[Parallel(n_jobs=-1)]: Done 3264 tasks      | elapsed:   43.1s\n",
      "[Parallel(n_jobs=-1)]: Done 3539 tasks      | elapsed:   46.7s\n",
      "[Parallel(n_jobs=-1)]: Done 3814 tasks      | elapsed:   50.9s\n",
      "[Parallel(n_jobs=-1)]: Done 4111 tasks      | elapsed:   55.3s\n",
      "[Parallel(n_jobs=-1)]: Done 4408 tasks      | elapsed:   58.7s\n",
      "[Parallel(n_jobs=-1)]: Done 4727 tasks      | elapsed:  1.0min\n",
      "[Parallel(n_jobs=-1)]: Done 5046 tasks      | elapsed:  1.1min\n",
      "[Parallel(n_jobs=-1)]: Done 5387 tasks      | elapsed:  1.2min\n",
      "[Parallel(n_jobs=-1)]: Done 5728 tasks      | elapsed:  1.3min\n",
      "[Parallel(n_jobs=-1)]: Done 6091 tasks      | elapsed:  1.4min\n",
      "[Parallel(n_jobs=-1)]: Done 6454 tasks      | elapsed:  1.5min\n",
      "[Parallel(n_jobs=-1)]: Done 6750 out of 6750 | elapsed:  1.5min finished\n",
      "/opt/conda/lib/python3.7/site-packages/sklearn/model_selection/_search.py:814: DeprecationWarning: The default of the `iid` parameter will change from True to False in version 0.22 and will be removed in 0.24. This will change numeric results when test-set sizes are unequal.\n",
      "  DeprecationWarning)\n"
     ]
    },
    {
     "name": "stdout",
     "output_type": "stream",
     "text": [
      "[0.01633571 0.32675404 0.65691024]\n"
     ]
    },
    {
     "data": {
      "image/png": "[encoded data removed]",
      "text/plain": [
       "<Figure size 432x288 with 1 Axes>"
      ]
     },
     "metadata": {},
     "output_type": "display_data"
    },
    {
     "name": "stdout",
     "output_type": "stream",
     "text": [
      "17_j\n",
      "Fitting 5 folds for each of 1350 candidates, totalling 6750 fits\n"
     ]
    },
    {
     "name": "stderr",
     "output_type": "stream",
     "text": [
      "[Parallel(n_jobs=-1)]: Using backend LokyBackend with 4 concurrent workers.\n",
      "[Parallel(n_jobs=-1)]: Batch computation too fast (0.0175s.) Setting batch_size=22.\n",
      "[Parallel(n_jobs=-1)]: Done   5 tasks      | elapsed:    0.1s\n",
      "[Parallel(n_jobs=-1)]: Done  52 tasks      | elapsed:    0.5s\n",
      "[Parallel(n_jobs=-1)]: Done 206 tasks      | elapsed:    2.4s\n",
      "[Parallel(n_jobs=-1)]: Done 360 tasks      | elapsed:    4.2s\n",
      "[Parallel(n_jobs=-1)]: Batch computation too slow (2.0476s.) Setting batch_size=11.\n",
      "[Parallel(n_jobs=-1)]: Done 525 tasks      | elapsed:    6.6s\n",
      "[Parallel(n_jobs=-1)]: Done 646 tasks      | elapsed:    7.8s\n",
      "[Parallel(n_jobs=-1)]: Done 767 tasks      | elapsed:    9.5s\n",
      "[Parallel(n_jobs=-1)]: Done 888 tasks      | elapsed:   11.3s\n",
      "[Parallel(n_jobs=-1)]: Done 1031 tasks      | elapsed:   13.6s\n",
      "[Parallel(n_jobs=-1)]: Done 1174 tasks      | elapsed:   15.8s\n",
      "[Parallel(n_jobs=-1)]: Done 1339 tasks      | elapsed:   18.6s\n",
      "[Parallel(n_jobs=-1)]: Done 1504 tasks      | elapsed:   20.7s\n",
      "[Parallel(n_jobs=-1)]: Done 1691 tasks      | elapsed:   23.0s\n",
      "[Parallel(n_jobs=-1)]: Done 1878 tasks      | elapsed:   25.2s\n",
      "[Parallel(n_jobs=-1)]: Done 2087 tasks      | elapsed:   28.2s\n",
      "[Parallel(n_jobs=-1)]: Done 2296 tasks      | elapsed:   31.1s\n",
      "[Parallel(n_jobs=-1)]: Done 2527 tasks      | elapsed:   34.9s\n",
      "[Parallel(n_jobs=-1)]: Done 2758 tasks      | elapsed:   38.6s\n",
      "[Parallel(n_jobs=-1)]: Done 3011 tasks      | elapsed:   41.6s\n",
      "[Parallel(n_jobs=-1)]: Done 3264 tasks      | elapsed:   45.2s\n",
      "[Parallel(n_jobs=-1)]: Done 3539 tasks      | elapsed:   49.1s\n",
      "[Parallel(n_jobs=-1)]: Done 3814 tasks      | elapsed:   53.5s\n",
      "[Parallel(n_jobs=-1)]: Done 4111 tasks      | elapsed:   58.4s\n",
      "[Parallel(n_jobs=-1)]: Done 4408 tasks      | elapsed:  1.0min\n",
      "[Parallel(n_jobs=-1)]: Done 4727 tasks      | elapsed:  1.1min\n",
      "[Parallel(n_jobs=-1)]: Done 5046 tasks      | elapsed:  1.2min\n",
      "[Parallel(n_jobs=-1)]: Done 5387 tasks      | elapsed:  1.3min\n",
      "[Parallel(n_jobs=-1)]: Done 5728 tasks      | elapsed:  1.4min\n",
      "[Parallel(n_jobs=-1)]: Done 6091 tasks      | elapsed:  1.4min\n",
      "[Parallel(n_jobs=-1)]: Done 6454 tasks      | elapsed:  1.5min\n",
      "[Parallel(n_jobs=-1)]: Done 6750 out of 6750 | elapsed:  1.6min finished\n",
      "/opt/conda/lib/python3.7/site-packages/sklearn/model_selection/_search.py:814: DeprecationWarning: The default of the `iid` parameter will change from True to False in version 0.22 and will be removed in 0.24. This will change numeric results when test-set sizes are unequal.\n",
      "  DeprecationWarning)\n"
     ]
    },
    {
     "name": "stdout",
     "output_type": "stream",
     "text": [
      "[0.08838533 0.21197827 0.6996364 ]\n"
     ]
    },
    {
     "data": {
      "image/png": "[encoded data removed]",
      "text/plain": [
       "<Figure size 432x288 with 1 Axes>"
      ]
     },
     "metadata": {},
     "output_type": "display_data"
    },
    {
     "name": "stdout",
     "output_type": "stream",
     "text": [
      "18_j\n",
      "Fitting 5 folds for each of 1350 candidates, totalling 6750 fits\n"
     ]
    },
    {
     "name": "stderr",
     "output_type": "stream",
     "text": [
      "[Parallel(n_jobs=-1)]: Using backend LokyBackend with 4 concurrent workers.\n",
      "[Parallel(n_jobs=-1)]: Batch computation too fast (0.0188s.) Setting batch_size=20.\n",
      "[Parallel(n_jobs=-1)]: Done   5 tasks      | elapsed:    0.1s\n",
      "[Parallel(n_jobs=-1)]: Done  48 tasks      | elapsed:    0.8s\n",
      "[Parallel(n_jobs=-1)]: Done 188 tasks      | elapsed:    2.3s\n",
      "[Parallel(n_jobs=-1)]: Done 328 tasks      | elapsed:    4.2s\n",
      "[Parallel(n_jobs=-1)]: Batch computation too slow (2.1097s.) Setting batch_size=10.\n",
      "[Parallel(n_jobs=-1)]: Done 488 tasks      | elapsed:    6.3s\n",
      "[Parallel(n_jobs=-1)]: Done 588 tasks      | elapsed:    7.6s\n",
      "[Parallel(n_jobs=-1)]: Done 698 tasks      | elapsed:    9.4s\n",
      "[Parallel(n_jobs=-1)]: Done 808 tasks      | elapsed:   11.1s\n",
      "[Parallel(n_jobs=-1)]: Done 938 tasks      | elapsed:   13.0s\n",
      "[Parallel(n_jobs=-1)]: Done 1068 tasks      | elapsed:   15.4s\n",
      "[Parallel(n_jobs=-1)]: Done 1218 tasks      | elapsed:   18.1s\n",
      "[Parallel(n_jobs=-1)]: Done 1368 tasks      | elapsed:   20.7s\n",
      "[Parallel(n_jobs=-1)]: Done 1538 tasks      | elapsed:   23.2s\n",
      "[Parallel(n_jobs=-1)]: Done 1708 tasks      | elapsed:   25.7s\n",
      "[Parallel(n_jobs=-1)]: Done 1898 tasks      | elapsed:   28.5s\n",
      "[Parallel(n_jobs=-1)]: Done 2088 tasks      | elapsed:   31.2s\n",
      "[Parallel(n_jobs=-1)]: Done 2298 tasks      | elapsed:   34.2s\n",
      "[Parallel(n_jobs=-1)]: Done 2508 tasks      | elapsed:   38.0s\n",
      "[Parallel(n_jobs=-1)]: Done 2738 tasks      | elapsed:   41.7s\n",
      "[Parallel(n_jobs=-1)]: Done 2968 tasks      | elapsed:   44.9s\n",
      "[Parallel(n_jobs=-1)]: Done 3218 tasks      | elapsed:   48.1s\n",
      "[Parallel(n_jobs=-1)]: Done 3468 tasks      | elapsed:   51.8s\n",
      "[Parallel(n_jobs=-1)]: Done 3738 tasks      | elapsed:   56.1s\n",
      "[Parallel(n_jobs=-1)]: Done 4008 tasks      | elapsed:  1.0min\n",
      "[Parallel(n_jobs=-1)]: Done 4298 tasks      | elapsed:  1.1min\n",
      "[Parallel(n_jobs=-1)]: Done 4588 tasks      | elapsed:  1.1min\n",
      "[Parallel(n_jobs=-1)]: Done 4898 tasks      | elapsed:  1.2min\n",
      "[Parallel(n_jobs=-1)]: Done 5208 tasks      | elapsed:  1.3min\n",
      "[Parallel(n_jobs=-1)]: Done 5538 tasks      | elapsed:  1.4min\n",
      "[Parallel(n_jobs=-1)]: Done 5868 tasks      | elapsed:  1.5min\n",
      "[Parallel(n_jobs=-1)]: Done 6218 tasks      | elapsed:  1.5min\n",
      "[Parallel(n_jobs=-1)]: Done 6568 tasks      | elapsed:  1.6min\n",
      "[Parallel(n_jobs=-1)]: Done 6750 out of 6750 | elapsed:  1.7min finished\n",
      "/opt/conda/lib/python3.7/site-packages/sklearn/model_selection/_search.py:814: DeprecationWarning: The default of the `iid` parameter will change from True to False in version 0.22 and will be removed in 0.24. This will change numeric results when test-set sizes are unequal.\n",
      "  DeprecationWarning)\n"
     ]
    },
    {
     "name": "stdout",
     "output_type": "stream",
     "text": [
      "[0.03078221 0.20175966 0.76745812]\n"
     ]
    },
    {
     "data": {
      "image/png": "[encoded data removed]",
      "text/plain": [
       "<Figure size 432x288 with 1 Axes>"
      ]
     },
     "metadata": {},
     "output_type": "display_data"
    },
    {
     "name": "stdout",
     "output_type": "stream",
     "text": [
      "19_j\n",
      "Fitting 5 folds for each of 1350 candidates, totalling 6750 fits\n"
     ]
    },
    {
     "name": "stderr",
     "output_type": "stream",
     "text": [
      "[Parallel(n_jobs=-1)]: Using backend LokyBackend with 4 concurrent workers.\n",
      "[Parallel(n_jobs=-1)]: Batch computation too fast (0.0160s.) Setting batch_size=24.\n",
      "[Parallel(n_jobs=-1)]: Done   5 tasks      | elapsed:    0.1s\n",
      "[Parallel(n_jobs=-1)]: Done  56 tasks      | elapsed:    0.5s\n",
      "[Parallel(n_jobs=-1)]: Done 224 tasks      | elapsed:    2.7s\n",
      "[Parallel(n_jobs=-1)]: Batch computation too slow (2.1367s.) Setting batch_size=12.\n",
      "[Parallel(n_jobs=-1)]: Done 392 tasks      | elapsed:    5.1s\n",
      "[Parallel(n_jobs=-1)]: Done 536 tasks      | elapsed:    6.8s\n",
      "[Parallel(n_jobs=-1)]: Done 644 tasks      | elapsed:    8.4s\n",
      "[Parallel(n_jobs=-1)]: Done 776 tasks      | elapsed:   10.4s\n",
      "[Parallel(n_jobs=-1)]: Done 908 tasks      | elapsed:   12.2s\n",
      "[Parallel(n_jobs=-1)]: Done 1064 tasks      | elapsed:   14.9s\n",
      "[Parallel(n_jobs=-1)]: Done 1220 tasks      | elapsed:   17.5s\n",
      "[Parallel(n_jobs=-1)]: Done 1400 tasks      | elapsed:   20.6s\n",
      "[Parallel(n_jobs=-1)]: Done 1580 tasks      | elapsed:   22.8s\n",
      "[Parallel(n_jobs=-1)]: Done 1784 tasks      | elapsed:   25.5s\n",
      "[Parallel(n_jobs=-1)]: Done 1988 tasks      | elapsed:   28.5s\n",
      "[Parallel(n_jobs=-1)]: Done 2216 tasks      | elapsed:   31.9s\n",
      "[Parallel(n_jobs=-1)]: Done 2444 tasks      | elapsed:   35.9s\n",
      "[Parallel(n_jobs=-1)]: Done 2696 tasks      | elapsed:   40.2s\n",
      "[Parallel(n_jobs=-1)]: Done 2948 tasks      | elapsed:   43.3s\n",
      "[Parallel(n_jobs=-1)]: Done 3224 tasks      | elapsed:   47.0s\n",
      "[Parallel(n_jobs=-1)]: Done 3500 tasks      | elapsed:   51.1s\n",
      "[Parallel(n_jobs=-1)]: Done 3800 tasks      | elapsed:   56.0s\n",
      "[Parallel(n_jobs=-1)]: Done 4100 tasks      | elapsed:  1.0min\n",
      "[Parallel(n_jobs=-1)]: Done 4424 tasks      | elapsed:  1.1min\n",
      "[Parallel(n_jobs=-1)]: Done 4748 tasks      | elapsed:  1.2min\n",
      "[Parallel(n_jobs=-1)]: Done 5096 tasks      | elapsed:  1.3min\n",
      "[Parallel(n_jobs=-1)]: Done 5444 tasks      | elapsed:  1.4min\n",
      "[Parallel(n_jobs=-1)]: Done 5816 tasks      | elapsed:  1.4min\n",
      "[Parallel(n_jobs=-1)]: Done 6188 tasks      | elapsed:  1.5min\n",
      "[Parallel(n_jobs=-1)]: Done 6584 tasks      | elapsed:  1.6min\n",
      "[Parallel(n_jobs=-1)]: Done 6750 out of 6750 | elapsed:  1.7min finished\n",
      "/opt/conda/lib/python3.7/site-packages/sklearn/model_selection/_search.py:814: DeprecationWarning: The default of the `iid` parameter will change from True to False in version 0.22 and will be removed in 0.24. This will change numeric results when test-set sizes are unequal.\n",
      "  DeprecationWarning)\n"
     ]
    },
    {
     "name": "stdout",
     "output_type": "stream",
     "text": [
      "[0.0346117  0.18955458 0.77583372]\n"
     ]
    },
    {
     "data": {
      "image/png": "[encoded data removed]",
      "text/plain": [
       "<Figure size 432x288 with 1 Axes>"
      ]
     },
     "metadata": {},
     "output_type": "display_data"
    },
    {
     "name": "stdout",
     "output_type": "stream",
     "text": [
      "20_j\n",
      "Fitting 5 folds for each of 1350 candidates, totalling 6750 fits\n"
     ]
    },
    {
     "name": "stderr",
     "output_type": "stream",
     "text": [
      "[Parallel(n_jobs=-1)]: Using backend LokyBackend with 4 concurrent workers.\n",
      "[Parallel(n_jobs=-1)]: Batch computation too fast (0.0174s.) Setting batch_size=22.\n",
      "[Parallel(n_jobs=-1)]: Done   5 tasks      | elapsed:    0.1s\n",
      "[Parallel(n_jobs=-1)]: Done  52 tasks      | elapsed:    0.5s\n",
      "[Parallel(n_jobs=-1)]: Done 206 tasks      | elapsed:    2.6s\n",
      "[Parallel(n_jobs=-1)]: Batch computation too slow (2.0425s.) Setting batch_size=11.\n",
      "[Parallel(n_jobs=-1)]: Done 360 tasks      | elapsed:    4.6s\n",
      "[Parallel(n_jobs=-1)]: Done 503 tasks      | elapsed:    6.7s\n",
      "[Parallel(n_jobs=-1)]: Done 613 tasks      | elapsed:    8.1s\n",
      "[Parallel(n_jobs=-1)]: Done 734 tasks      | elapsed:    9.7s\n",
      "[Parallel(n_jobs=-1)]: Done 855 tasks      | elapsed:   11.6s\n",
      "[Parallel(n_jobs=-1)]: Done 998 tasks      | elapsed:   14.0s\n",
      "[Parallel(n_jobs=-1)]: Done 1141 tasks      | elapsed:   16.5s\n",
      "[Parallel(n_jobs=-1)]: Done 1306 tasks      | elapsed:   19.4s\n",
      "[Parallel(n_jobs=-1)]: Done 1471 tasks      | elapsed:   21.8s\n",
      "[Parallel(n_jobs=-1)]: Done 1658 tasks      | elapsed:   24.0s\n",
      "[Parallel(n_jobs=-1)]: Done 1845 tasks      | elapsed:   26.6s\n",
      "[Parallel(n_jobs=-1)]: Done 2054 tasks      | elapsed:   29.6s\n",
      "[Parallel(n_jobs=-1)]: Done 2263 tasks      | elapsed:   32.6s\n",
      "[Parallel(n_jobs=-1)]: Done 2494 tasks      | elapsed:   36.3s\n",
      "[Parallel(n_jobs=-1)]: Done 2725 tasks      | elapsed:   40.6s\n",
      "[Parallel(n_jobs=-1)]: Done 2978 tasks      | elapsed:   43.8s\n",
      "[Parallel(n_jobs=-1)]: Done 3231 tasks      | elapsed:   47.2s\n",
      "[Parallel(n_jobs=-1)]: Done 3506 tasks      | elapsed:   51.4s\n",
      "[Parallel(n_jobs=-1)]: Done 3781 tasks      | elapsed:   56.1s\n",
      "[Parallel(n_jobs=-1)]: Done 4078 tasks      | elapsed:  1.0min\n",
      "[Parallel(n_jobs=-1)]: Done 4375 tasks      | elapsed:  1.1min\n",
      "[Parallel(n_jobs=-1)]: Done 4694 tasks      | elapsed:  1.2min\n",
      "[Parallel(n_jobs=-1)]: Done 5013 tasks      | elapsed:  1.2min\n",
      "[Parallel(n_jobs=-1)]: Done 5354 tasks      | elapsed:  1.3min\n",
      "[Parallel(n_jobs=-1)]: Done 5695 tasks      | elapsed:  1.4min\n",
      "[Parallel(n_jobs=-1)]: Done 6058 tasks      | elapsed:  1.5min\n",
      "[Parallel(n_jobs=-1)]: Done 6421 tasks      | elapsed:  1.6min\n",
      "[Parallel(n_jobs=-1)]: Done 6750 out of 6750 | elapsed:  1.7min finished\n",
      "/opt/conda/lib/python3.7/site-packages/sklearn/model_selection/_search.py:814: DeprecationWarning: The default of the `iid` parameter will change from True to False in version 0.22 and will be removed in 0.24. This will change numeric results when test-set sizes are unequal.\n",
      "  DeprecationWarning)\n"
     ]
    },
    {
     "name": "stdout",
     "output_type": "stream",
     "text": [
      "[0.05201638 0.15583641 0.79214721]\n"
     ]
    },
    {
     "data": {
      "image/png": "[encoded data removed]",
      "text/plain": [
       "<Figure size 432x288 with 1 Axes>"
      ]
     },
     "metadata": {},
     "output_type": "display_data"
    },
    {
     "name": "stdout",
     "output_type": "stream",
     "text": [
      "21_j\n",
      "Fitting 5 folds for each of 1350 candidates, totalling 6750 fits\n"
     ]
    },
    {
     "name": "stderr",
     "output_type": "stream",
     "text": [
      "[Parallel(n_jobs=-1)]: Using backend LokyBackend with 4 concurrent workers.\n",
      "[Parallel(n_jobs=-1)]: Batch computation too fast (0.0181s.) Setting batch_size=22.\n",
      "[Parallel(n_jobs=-1)]: Done   5 tasks      | elapsed:    0.1s\n",
      "[Parallel(n_jobs=-1)]: Done  52 tasks      | elapsed:    0.5s\n",
      "[Parallel(n_jobs=-1)]: Done 206 tasks      | elapsed:    2.6s\n",
      "[Parallel(n_jobs=-1)]: Batch computation too slow (2.0634s.) Setting batch_size=11.\n",
      "[Parallel(n_jobs=-1)]: Done 360 tasks      | elapsed:    4.6s\n",
      "[Parallel(n_jobs=-1)]: Done 503 tasks      | elapsed:    6.9s\n",
      "[Parallel(n_jobs=-1)]: Done 613 tasks      | elapsed:    8.4s\n",
      "[Parallel(n_jobs=-1)]: Done 734 tasks      | elapsed:   10.0s\n",
      "[Parallel(n_jobs=-1)]: Done 855 tasks      | elapsed:   11.8s\n",
      "[Parallel(n_jobs=-1)]: Done 998 tasks      | elapsed:   14.1s\n",
      "[Parallel(n_jobs=-1)]: Done 1141 tasks      | elapsed:   16.5s\n",
      "[Parallel(n_jobs=-1)]: Done 1306 tasks      | elapsed:   19.5s\n",
      "[Parallel(n_jobs=-1)]: Done 1471 tasks      | elapsed:   21.8s\n",
      "[Parallel(n_jobs=-1)]: Done 1658 tasks      | elapsed:   24.1s\n",
      "[Parallel(n_jobs=-1)]: Done 1845 tasks      | elapsed:   26.6s\n",
      "[Parallel(n_jobs=-1)]: Done 2054 tasks      | elapsed:   29.6s\n",
      "[Parallel(n_jobs=-1)]: Done 2263 tasks      | elapsed:   32.8s\n",
      "[Parallel(n_jobs=-1)]: Done 2494 tasks      | elapsed:   36.9s\n",
      "[Parallel(n_jobs=-1)]: Done 2725 tasks      | elapsed:   41.2s\n",
      "[Parallel(n_jobs=-1)]: Done 2978 tasks      | elapsed:   44.8s\n",
      "[Parallel(n_jobs=-1)]: Done 3231 tasks      | elapsed:   48.4s\n",
      "[Parallel(n_jobs=-1)]: Done 3506 tasks      | elapsed:   53.0s\n",
      "[Parallel(n_jobs=-1)]: Done 3781 tasks      | elapsed:   57.7s\n",
      "[Parallel(n_jobs=-1)]: Done 4078 tasks      | elapsed:  1.0min\n",
      "[Parallel(n_jobs=-1)]: Done 4375 tasks      | elapsed:  1.1min\n",
      "[Parallel(n_jobs=-1)]: Done 4694 tasks      | elapsed:  1.2min\n",
      "[Parallel(n_jobs=-1)]: Done 5013 tasks      | elapsed:  1.3min\n",
      "[Parallel(n_jobs=-1)]: Done 5354 tasks      | elapsed:  1.4min\n",
      "[Parallel(n_jobs=-1)]: Done 5695 tasks      | elapsed:  1.5min\n",
      "[Parallel(n_jobs=-1)]: Done 6058 tasks      | elapsed:  1.5min\n",
      "[Parallel(n_jobs=-1)]: Done 6421 tasks      | elapsed:  1.7min\n",
      "[Parallel(n_jobs=-1)]: Done 6750 out of 6750 | elapsed:  1.8min finished\n",
      "/opt/conda/lib/python3.7/site-packages/sklearn/model_selection/_search.py:814: DeprecationWarning: The default of the `iid` parameter will change from True to False in version 0.22 and will be removed in 0.24. This will change numeric results when test-set sizes are unequal.\n",
      "  DeprecationWarning)\n"
     ]
    },
    {
     "name": "stdout",
     "output_type": "stream",
     "text": [
      "[0.13560029 0.16972964 0.69467007]\n"
     ]
    },
    {
     "data": {
      "image/png": "[encoded data removed]",
      "text/plain": [
       "<Figure size 432x288 with 1 Axes>"
      ]
     },
     "metadata": {},
     "output_type": "display_data"
    }
   ],
   "source": [
    "from sklearn.metrics import mean_squared_error,max_error, explained_variance_score\n",
    "from math import sqrt\n",
    "\n",
    "#df = df[df[\"Pop\"] == \"802\"]\n",
    "X = df[Col_X]\n",
    "\n",
    "Importance_variable = {}\n",
    "\n",
    "#on crée un nouveau modèle gradient Boosting\n",
    "GB = GradientBoostingRegressor()\n",
    "\n",
    "#on crée un dictionnaire de toutes les valeurs que nous voulons tester\n",
    "param_grid_GB = {\n",
    "    \"learning_rate\": [0.001, 0.01, 0.05, 0.1, 0.5],\n",
    "    \"min_samples_leaf\": [0.001, 0.005, 0.01],\n",
    "    \"max_depth\":[3, 5, 8],\n",
    "    \"max_features\":[\"log2\",\"sqrt\"],\n",
    "    \"criterion\": [\"friedman_mse\"],\n",
    "    \"subsample\":[0.5, 0.75, 1.0],\n",
    "    \"n_estimators\":[10, 20,50, 100, 200],\n",
    "    }\n",
    "\n",
    "for jour in Col_Y:\n",
    "    print(jour)\n",
    "    y = df[jour]\n",
    "    X_train, X_test, y_train, y_test = train_test_split(X,y,test_size = 0.25, random_state = 40)\n",
    "    \n",
    "    #on utilise gridsearch pour tester toutes les valeurs de param_grid\n",
    "    GB_gscv = GridSearchCV(GB, param_grid_GB, cv=5, n_jobs=-1, verbose=10)\n",
    "    \n",
    "    #ajustement du modèle aux données\n",
    "    t_debut = time.time()\n",
    "    GB_gscv.fit(X_train,y_train)\n",
    "    t_fin = time.time()\n",
    "    \n",
    "    temps_GB = (t_fin - t_debut)/60\n",
    "    \n",
    "    rmse_test = sqrt(mean_squared_error(y_test, GB_gscv.best_estimator_.predict(X_test)))\n",
    "\n",
    "    model = GB_gscv.best_estimator_\n",
    "    print(model.feature_importances_) #use inbuilt class feature_importances of tree based classifiers\n",
    "    #plot graph of feature importances for better visualization\n",
    "    feat_importances = pd.Series(model.feature_importances_, index=X.columns)\n",
    "    Importance_variable[jour] = feat_importances\n",
    "    feat_importances.nlargest(20).plot(kind='barh')\n",
    "    plt.show()"
   ]
  },
  {
   "cell_type": "code",
   "execution_count": 33,
   "metadata": {},
   "outputs": [],
   "source": [
    "# Importance_variables = pd.DataFrame({\n",
    "#     'Model': ['Gradient Boosting','XGBoost','Random Forest','Decision Tree'],\n",
    "#     'Score': [grad,xgrad,rf,dt],\n",
    "#     'Variance_Score': [exp_grad,exp_xgrad,exp_rf,exp_dt],\n",
    "#     'R2_score_adj' : [r2_score_adj_grad,r2_score_adj_xgrad,r2_score_adj_rf,r2_score_adj_dt],\n",
    "#     'MAE': [MAE_grad,MAE_xgrad,MAE_rf,MAE_dt],\n",
    "#     'RMSE' : [RMSE_grad, RMSE_xgrad, RMSE_rf, RMSE_dt],\n",
    "#     'MedAE' : [MedAE_grad, MedAE_xgrad, MedAE_rf, MedAE_dt],\n",
    "#     'Max_Error': [max_grad,max_xgrad,max_rf,max_dt]})\n",
    "    \n",
    "# models_cross.sort_values(by='Score', ascending=False)"
   ]
  },
  {
   "cell_type": "code",
   "execution_count": 47,
   "metadata": {},
   "outputs": [
    {
     "data": {
      "text/plain": [
       "Bancs     0.13560\n",
       "camera    0.16973\n",
       "zone      0.69467\n",
       "dtype: float64"
      ]
     },
     "execution_count": 47,
     "metadata": {},
     "output_type": "execute_result"
    }
   ],
   "source": [
    "Importance_variable['21_j']"
   ]
  },
  {
   "cell_type": "code",
   "execution_count": 51,
   "metadata": {},
   "outputs": [],
   "source": [
    "Importance_variable_df = pd.concat([Importance_variable['15_j'],\n",
    "                                    Importance_variable['16_j'],\n",
    "                                    Importance_variable['17_j'],\n",
    "                                    Importance_variable['18_j'],\n",
    "                                    Importance_variable['19_j'],\n",
    "                                    Importance_variable['20_j'],\n",
    "                                    Importance_variable['21_j']], axis = 1)\n",
    "Importance_variable_df = Importance_variable_df.set_axis(Col_Y, axis=1, inplace=False)\n",
    "Importance_variable_df.index.names = ['Effet']"
   ]
  },
  {
   "cell_type": "code",
   "execution_count": 52,
   "metadata": {
    "scrolled": true
   },
   "outputs": [
    {
     "data": {
      "text/html": [
       "<div>\n",
       "<style scoped>\n",
       "    .dataframe tbody tr th:only-of-type {\n",
       "        vertical-align: middle;\n",
       "    }\n",
       "\n",
       "    .dataframe tbody tr th {\n",
       "        vertical-align: top;\n",
       "    }\n",
       "\n",
       "    .dataframe thead th {\n",
       "        text-align: right;\n",
       "    }\n",
       "</style>\n",
       "<table border=\"1\" class=\"dataframe\">\n",
       "  <thead>\n",
       "    <tr style=\"text-align: right;\">\n",
       "      <th></th>\n",
       "      <th>15_j</th>\n",
       "      <th>16_j</th>\n",
       "      <th>17_j</th>\n",
       "      <th>18_j</th>\n",
       "      <th>19_j</th>\n",
       "      <th>20_j</th>\n",
       "      <th>21_j</th>\n",
       "    </tr>\n",
       "    <tr>\n",
       "      <th>Effet</th>\n",
       "      <th></th>\n",
       "      <th></th>\n",
       "      <th></th>\n",
       "      <th></th>\n",
       "      <th></th>\n",
       "      <th></th>\n",
       "      <th></th>\n",
       "    </tr>\n",
       "  </thead>\n",
       "  <tbody>\n",
       "    <tr>\n",
       "      <td>Bancs</td>\n",
       "      <td>0.113859</td>\n",
       "      <td>0.016336</td>\n",
       "      <td>0.088385</td>\n",
       "      <td>0.030782</td>\n",
       "      <td>0.034612</td>\n",
       "      <td>0.052016</td>\n",
       "      <td>0.13560</td>\n",
       "    </tr>\n",
       "    <tr>\n",
       "      <td>camera</td>\n",
       "      <td>0.428642</td>\n",
       "      <td>0.326754</td>\n",
       "      <td>0.211978</td>\n",
       "      <td>0.201760</td>\n",
       "      <td>0.189555</td>\n",
       "      <td>0.155836</td>\n",
       "      <td>0.16973</td>\n",
       "    </tr>\n",
       "    <tr>\n",
       "      <td>zone</td>\n",
       "      <td>0.457499</td>\n",
       "      <td>0.656910</td>\n",
       "      <td>0.699636</td>\n",
       "      <td>0.767458</td>\n",
       "      <td>0.775834</td>\n",
       "      <td>0.792147</td>\n",
       "      <td>0.69467</td>\n",
       "    </tr>\n",
       "  </tbody>\n",
       "</table>\n",
       "</div>"
      ],
      "text/plain": [
       "            15_j      16_j      17_j      18_j      19_j      20_j     21_j\n",
       "Effet                                                                      \n",
       "Bancs   0.113859  0.016336  0.088385  0.030782  0.034612  0.052016  0.13560\n",
       "camera  0.428642  0.326754  0.211978  0.201760  0.189555  0.155836  0.16973\n",
       "zone    0.457499  0.656910  0.699636  0.767458  0.775834  0.792147  0.69467"
      ]
     },
     "execution_count": 52,
     "metadata": {},
     "output_type": "execute_result"
    }
   ],
   "source": [
    "Importance_variable_df"
   ]
  }
 ],
 "metadata": {
  "celltoolbar": "Aucun(e)",
  "kernelspec": {
   "display_name": "Python 3",
   "language": "python",
   "name": "python3"
  },
  "language_info": {
   "codemirror_mode": {
    "name": "ipython",
    "version": 3
   },
   "file_extension": ".py",
   "mimetype": "text/x-python",
   "name": "python",
   "nbconvert_exporter": "python",
   "pygments_lexer": "ipython3",
   "version": "3.7.3"
  }
 },
 "nbformat": 4,
 "nbformat_minor": 1
}
