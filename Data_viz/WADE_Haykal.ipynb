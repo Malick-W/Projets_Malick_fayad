{
 "cells": [
  {
   "cell_type": "markdown",
   "metadata": {},
   "source": [
    "# Master Data Science Data_VIZ\n",
    "### WADE El Hadji Malick\n",
    "### HAYKAL Fayad"
   ]
  },
  {
   "cell_type": "markdown",
   "metadata": {},
   "source": [
    "## 1. Nettoyage des données "
   ]
  },
  {
   "cell_type": "code",
   "execution_count": null,
   "metadata": {
    "scrolled": true
   },
   "outputs": [],
   "source": [
    "import pandas as pd\n",
    "import numpy as np\n",
    "\n",
    "pd.set_option('display.max_rows', 500)\n",
    "pd.set_option('display.max_columns', 500)\n",
    "\n",
    "path_School = \"/users/mmath/wade/Bureau/Projets_Malick_fayad/Data_viz/Synthese_donnees_des_semis.csv\"\n",
    "path_Home = \"/home/malick/Bureau/Projets/Projets_Malick_fayad/Data_viz/Synthese_donnees_des_semis.csv\"\n",
    "\n",
    "df = pd.read_csv(path_School,  sep='\\t',  decimal=\",\")\n",
    "\n",
    "df.head(10)"
   ]
  },
  {
   "cell_type": "code",
   "execution_count": null,
   "metadata": {},
   "outputs": [],
   "source": [
    "print (\"Lignes: \" ,df.shape[0])\n",
    "print (\"Colonnes: \" ,df.shape[1])\n",
    "print (\"\\nVariables:\\n\",df.dtypes)\n",
    "print (\"\\nValeurs uniques :  \\n\",df.nunique())"
   ]
  },
  {
   "cell_type": "code",
   "execution_count": null,
   "metadata": {},
   "outputs": [],
   "source": [
    "print (\"\\nTotal des valeurs manquantes :  \", df.isnull().sum().values.sum())\n",
    "\n",
    "print(\"\\n\",df.isnull().sum())"
   ]
  },
  {
   "cell_type": "markdown",
   "metadata": {},
   "source": [
    "On voit que notre jeux de données posséde des lignes avec avec au moins un e valeur manquante.  \n",
    "On choisit de les supprimer, ce qui représente une perte de 2 lignes d'observations de données"
   ]
  },
  {
   "cell_type": "code",
   "execution_count": null,
   "metadata": {},
   "outputs": [],
   "source": [
    "Perte_de_donnees = df.shape[0]\n",
    "df = df.dropna()\n",
    "Perte_de_donnees = (Perte_de_donnees - df.shape[0])/100\n",
    "\n",
    "print(\"En supprimant les lignes avec des valeurs manquantes, on a une perte de données de \", Perte_de_donnees,\"%\")"
   ]
  },
  {
   "cell_type": "code",
   "execution_count": null,
   "metadata": {},
   "outputs": [],
   "source": [
    "df.isnull().sum()"
   ]
  },
  {
   "cell_type": "code",
   "execution_count": null,
   "metadata": {
    "scrolled": true
   },
   "outputs": [],
   "source": [
    "import seaborn as sns\n",
    "\n",
    "Col_pairplot = [\"5_degres_C_TMG_h\", \"5_degres_C_TMG_j\", \"Aire_sous_la_courbe\", \"15_j\", \"16_j\", \"17_j\", \"18_j\", \"19_j\", \"20_j\", \"21_j\"]\n",
    "\n",
    "sns.set(style=\"ticks\", color_codes=True)\n",
    "g = sns.pairplot(df[Col_pairplot])"
   ]
  },
  {
   "cell_type": "markdown",
   "metadata": {},
   "source": [
    "## 2. Réduction de dimensions"
   ]
  },
  {
   "cell_type": "code",
   "execution_count": null,
   "metadata": {},
   "outputs": [],
   "source": [
    "import matplotlib.pyplot as plt\n",
    "\n",
    "fig = plt.figure(1, figsize=(12, 12))\n",
    "\n",
    "sns.heatmap(round(df[Col_pairplot].corr(),2), annot=True, fmt=\".2f\")\n",
    "plt.show()"
   ]
  },
  {
   "cell_type": "raw",
   "metadata": {},
   "source": [
    "On supprime la variable df[\"5_degres_C_TMG_h\"]"
   ]
  },
  {
   "cell_type": "code",
   "execution_count": null,
   "metadata": {},
   "outputs": [],
   "source": [
    "df.drop([\"5_degres_C_TMG_h\"], axis = 1, inplace = True) "
   ]
  },
  {
   "cell_type": "markdown",
   "metadata": {},
   "source": [
    "### a. ACP compléte      "
   ]
  },
  {
   "cell_type": "code",
   "execution_count": null,
   "metadata": {},
   "outputs": [],
   "source": [
    "#classe pour standardisation(On centre et réduis nos valeurs)\n",
    "from sklearn.preprocessing import StandardScaler\n",
    "\n",
    "Col_ACP = [\"5_degres_C_TMG_j\", \"Aire_sous_la_courbe\", \"15_j\", \"16_j\", \"17_j\", \"18_j\", \"19_j\", \"20_j\", \"21_j\"]\n",
    "\n",
    "#instanciation\n",
    "sc = StandardScaler()\n",
    "\n",
    "#transformation – centrage-réduction\n",
    "df_ACP = sc.fit_transform(df[Col_ACP])"
   ]
  },
  {
   "cell_type": "code",
   "execution_count": null,
   "metadata": {},
   "outputs": [],
   "source": [
    "#vérification\n",
    "\n",
    "#moyenne\n",
    "print(np.around(np.mean(df_ACP,axis=0),3))"
   ]
  },
  {
   "cell_type": "code",
   "execution_count": null,
   "metadata": {},
   "outputs": [],
   "source": [
    "#écart-type\n",
    "print(np.std(df_ACP,axis=0,ddof=0))"
   ]
  },
  {
   "cell_type": "raw",
   "metadata": {},
   "source": [
    "Nous sommes maintenant parés pour lancer l’ACP."
   ]
  },
  {
   "cell_type": "code",
   "execution_count": null,
   "metadata": {},
   "outputs": [],
   "source": [
    "#classe pour l'ACP\n",
    "from sklearn.decomposition import PCA\n",
    "\n",
    "#instanciation\n",
    "acp = PCA(n_components=2)\n",
    "\n",
    "#calculs\n",
    "ACP_complete = acp.fit_transform(df_ACP)\n",
    "\n",
    "#nombre de composantes calculées\n",
    "print(acp.n_components_) "
   ]
  },
  {
   "cell_type": "code",
   "execution_count": null,
   "metadata": {},
   "outputs": [],
   "source": [
    "#proportions de variance associées aux axes\n",
    "acp.explained_variance_ratio_"
   ]
  },
  {
   "cell_type": "markdown",
   "metadata": {},
   "source": [
    "On voit que Les deux premières composantes accapare 95.83% de l’information disponible."
   ]
  },
  {
   "cell_type": "code",
   "execution_count": null,
   "metadata": {},
   "outputs": [],
   "source": [
    "ACP_complete"
   ]
  },
  {
   "cell_type": "code",
   "execution_count": null,
   "metadata": {},
   "outputs": [],
   "source": [
    "dataframe = pd.DataFrame(ACP_complete, columns=['X1','X2']) "
   ]
  },
  {
   "cell_type": "code",
   "execution_count": null,
   "metadata": {},
   "outputs": [],
   "source": [
    "Col = [\"Bancs\", \"camera\", \"zone\", \"Pop\"]\n",
    "df_ACP_complete = pd.concat([df[Col], dataframe], axis=1)"
   ]
  },
  {
   "cell_type": "code",
   "execution_count": null,
   "metadata": {},
   "outputs": [],
   "source": [
    "df_ACP_complete.head()"
   ]
  },
  {
   "cell_type": "markdown",
   "metadata": {},
   "source": [
    "### a. ACP partielle "
   ]
  },
  {
   "cell_type": "code",
   "execution_count": null,
   "metadata": {},
   "outputs": [],
   "source": [
    "Col_ACP = [\"15_j\", \"16_j\", \"17_j\", \"18_j\", \"19_j\", \"20_j\", \"21_j\"]\n",
    "\n",
    "#instanciation\n",
    "acp = PCA(n_components=1)\n",
    "\n",
    "#calculs\n",
    "ACP_parielle = acp.fit_transform(df[Col_ACP])\n",
    "\n",
    "#proportions de variance associées aux axes\n",
    "acp.explained_variance_ratio_"
   ]
  },
  {
   "cell_type": "code",
   "execution_count": null,
   "metadata": {},
   "outputs": [],
   "source": [
    "df_partielle = pd.DataFrame(ACP_parielle, columns=['ACP_j']) "
   ]
  },
  {
   "cell_type": "code",
   "execution_count": null,
   "metadata": {},
   "outputs": [],
   "source": [
    "Col = [\"Bancs\", \"camera\", \"zone\", \"Pop\", \"5_degres_C_TMG_j\", \"Aire_sous_la_courbe\"]\n",
    "df_ACP_parielle = pd.concat([df[Col], df_partielle], axis=1)"
   ]
  },
  {
   "cell_type": "code",
   "execution_count": null,
   "metadata": {},
   "outputs": [],
   "source": [
    "df_ACP_parielle.head()"
   ]
  },
  {
   "cell_type": "code",
   "execution_count": null,
   "metadata": {},
   "outputs": [],
   "source": [
    "fig = plt.figure(1, figsize=(5, 5))\n",
    "\n",
    "sns.heatmap(round(df_ACP_parielle[[\"5_degres_C_TMG_j\", \"Aire_sous_la_courbe\", \"ACP_j\"]].corr(),2), annot=True, fmt=\".2f\")\n",
    "plt.show()"
   ]
  },
  {
   "cell_type": "markdown",
   "metadata": {},
   "source": [
    "## 3. Graphes"
   ]
  },
  {
   "cell_type": "markdown",
   "metadata": {},
   "source": [
    "### a. graphe avec une ACP compléte"
   ]
  },
  {
   "cell_type": "code",
   "execution_count": null,
   "metadata": {},
   "outputs": [],
   "source": [
    "sns.set(style=\"darkgrid\")\n",
    "plt.figure(figsize=(15,15))\n",
    "sns.scatterplot(x=\"X1\", y=\"X2\", hue=\"Pop\", style = \"Pop\", data=df_ACP_complete, s =50)"
   ]
  },
  {
   "cell_type": "markdown",
   "metadata": {},
   "source": [
    "### b. graphe avec une ACP partielle"
   ]
  },
  {
   "cell_type": "code",
   "execution_count": null,
   "metadata": {},
   "outputs": [],
   "source": [
    "df_ACP_parielle.head()"
   ]
  },
  {
   "cell_type": "code",
   "execution_count": null,
   "metadata": {},
   "outputs": [],
   "source": [
    "X = [\"5_degres_C_TMG_j\", \"Aire_sous_la_courbe\", \"ACP_j\"]\n",
    "Y = [\"Bancs\", \"camera\", \"zone\", \"Pop\"]\n",
    "i = 3\n",
    "\n",
    "sns.set(style=\"darkgrid\")\n",
    "plt.figure(figsize=(15,15))\n",
    "sns.scatterplot(x=X[1], y=X[2], hue=Y[i], style = Y[i], data=df_ACP_parielle, s =50)"
   ]
  },
  {
   "cell_type": "markdown",
   "metadata": {},
   "source": [
    "## 4. Prédictions avec X(G)Boost"
   ]
  },
  {
   "cell_type": "raw",
   "metadata": {},
   "source": [
    "Une tranformation des variables est necéssaire. Icic toutes les variables de types 'Object' seront indexées."
   ]
  },
  {
   "cell_type": "code",
   "execution_count": null,
   "metadata": {},
   "outputs": [],
   "source": [
    "from sklearn.preprocessing import LabelEncoder\n",
    "\n",
    "def object_to_int(dataframe_series):\n",
    "    \"\"\"une simple fonction d'indexation\"\"\"\n",
    "    \n",
    "    if dataframe_series.dtype=='object':\n",
    "        dataframe_series = LabelEncoder().fit_transform(dataframe_series)\n",
    "    return dataframe_series"
   ]
  },
  {
   "cell_type": "code",
   "execution_count": null,
   "metadata": {},
   "outputs": [],
   "source": [
    "Col_X = [\"zone\", \"Pop\", \"5_degres_C_TMG_j\", \"Aire_sous_la_courbe\", \"15_j\", \"16_j\", \"17_j\", \"18_j\", \"19_j\", \"20_j\", \"21_j\"]\n",
    "Col_Y = [\"Bancs\", \"camera\", \"Pop\"]\n",
    "\n",
    "df = df.apply(lambda x: object_to_int(x))\n",
    "df[[\"Bancs\", \"camera\", \"zone\"]] = df[[\"Bancs\", \"camera\", \"zone\"]].astype(int)\n",
    "\n",
    "df.head()"
   ]
  },
  {
   "cell_type": "code",
   "execution_count": null,
   "metadata": {},
   "outputs": [],
   "source": [
    "from sklearn.model_selection import train_test_split\n",
    "\n",
    "X = df[Col_X]\n",
    "y = df[Col_Y[0]]\n",
    "\n",
    "X_train, X_test, y_train, y_test = train_test_split(X,y,test_size = 0.30, random_state = 40)"
   ]
  },
  {
   "cell_type": "code",
   "execution_count": null,
   "metadata": {},
   "outputs": [],
   "source": [
    "df.dtypes"
   ]
  },
  {
   "cell_type": "code",
   "execution_count": null,
   "metadata": {},
   "outputs": [],
   "source": [
    "#from sklearn.model_selection import GridSearchCV\n",
    "#from xgboost import XGBClassifier\n",
    "#from time import time\n",
    "\n",
    "start = time()\n",
    "\n",
    "parameters = {\n",
    "    \"learning_rate\": np.linspace(0, 0.6, 4),\n",
    "    \"gamma\": np.linspace(0, 0.6, 4),\n",
    "    \"min_samples_leaf\": [0.005, 0.05,0.01],\n",
    "    \"max_depth\": [3, 5, 8],\n",
    "    \"max_features\": np.linspace(0, 1, 4),\n",
    "    \"n_estimators\":[10, 50, 100, 200, 400],\n",
    "    }\n",
    "\n",
    "\n",
    "clf_XGB = GridSearchCV(XGBClassifier(), parameters, cv=5, n_jobs=-1,verbose=10)\n",
    "\n",
    "clf_XGB.fit(X_train, y_train)\n",
    "\n",
    "end=time()\n",
    "train_time_xgb=end-start\n",
    "\n",
    "print(\"Train: \",clf_XGB.score(X_train, y_train))\n",
    "print(\"Test: \",clf_XGB.score(X_test, y_test))\n",
    "print(\"\\n\")\n",
    "print(clf_XGB.best_params_)"
   ]
  },
  {
   "cell_type": "code",
   "execution_count": null,
   "metadata": {},
   "outputs": [],
   "source": []
  },
  {
   "cell_type": "code",
   "execution_count": null,
   "metadata": {},
   "outputs": [],
   "source": []
  }
 ],
 "metadata": {
  "kernelspec": {
   "display_name": "Python 3",
   "language": "python",
   "name": "python3"
  }
 },
 "nbformat": 4,
 "nbformat_minor": 2
}
