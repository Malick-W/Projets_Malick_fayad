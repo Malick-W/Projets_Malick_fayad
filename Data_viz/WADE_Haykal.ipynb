{
 "cells": [
  {
   "cell_type": "markdown",
   "metadata": {},
   "source": [
    "# Master Data Science Data_VIZ\n",
    "### WADE El Hadji Malick\n",
    "### HAYKAL Fayad"
   ]
  },
  {
   "cell_type": "markdown",
   "metadata": {},
   "source": [
    "## 1. Informations sur les données "
   ]
  },
  {
   "cell_type": "code",
   "execution_count": 1,
   "metadata": {
    "scrolled": true
   },
   "outputs": [
    {
     "data": {
      "text/html": [
       "<div>\n",
       "<style scoped>\n",
       "    .dataframe tbody tr th:only-of-type {\n",
       "        vertical-align: middle;\n",
       "    }\n",
       "\n",
       "    .dataframe tbody tr th {\n",
       "        vertical-align: top;\n",
       "    }\n",
       "\n",
       "    .dataframe thead th {\n",
       "        text-align: right;\n",
       "    }\n",
       "</style>\n",
       "<table border=\"1\" class=\"dataframe\">\n",
       "  <thead>\n",
       "    <tr style=\"text-align: right;\">\n",
       "      <th></th>\n",
       "      <th>Bancs</th>\n",
       "      <th>camera</th>\n",
       "      <th>zone</th>\n",
       "      <th>Pop</th>\n",
       "      <th>5_degres_C_TMG_h</th>\n",
       "      <th>5_degres_C_TMG_j</th>\n",
       "      <th>Aire_sous_la_courbe</th>\n",
       "      <th>15_j</th>\n",
       "      <th>16_j</th>\n",
       "      <th>17_j</th>\n",
       "      <th>18_j</th>\n",
       "      <th>19_j</th>\n",
       "      <th>20_j</th>\n",
       "      <th>21_j</th>\n",
       "    </tr>\n",
       "  </thead>\n",
       "  <tbody>\n",
       "    <tr>\n",
       "      <th>0</th>\n",
       "      <td>3.0</td>\n",
       "      <td>1.0</td>\n",
       "      <td>11.0</td>\n",
       "      <td>Témoin</td>\n",
       "      <td>414.00</td>\n",
       "      <td>17.25</td>\n",
       "      <td>2652.0</td>\n",
       "      <td>4.0</td>\n",
       "      <td>16.0</td>\n",
       "      <td>20.0</td>\n",
       "      <td>24.0</td>\n",
       "      <td>32.0</td>\n",
       "      <td>36.0</td>\n",
       "      <td>40.0</td>\n",
       "    </tr>\n",
       "    <tr>\n",
       "      <th>1</th>\n",
       "      <td>3.0</td>\n",
       "      <td>2.0</td>\n",
       "      <td>11.0</td>\n",
       "      <td>Témoin</td>\n",
       "      <td>430.86</td>\n",
       "      <td>17.95</td>\n",
       "      <td>2652.0</td>\n",
       "      <td>0.0</td>\n",
       "      <td>4.0</td>\n",
       "      <td>4.0</td>\n",
       "      <td>12.0</td>\n",
       "      <td>24.0</td>\n",
       "      <td>28.0</td>\n",
       "      <td>28.0</td>\n",
       "    </tr>\n",
       "    <tr>\n",
       "      <th>2</th>\n",
       "      <td>3.0</td>\n",
       "      <td>3.0</td>\n",
       "      <td>11.0</td>\n",
       "      <td>Témoin</td>\n",
       "      <td>382.86</td>\n",
       "      <td>15.95</td>\n",
       "      <td>2652.0</td>\n",
       "      <td>8.0</td>\n",
       "      <td>12.0</td>\n",
       "      <td>20.0</td>\n",
       "      <td>20.0</td>\n",
       "      <td>20.0</td>\n",
       "      <td>24.0</td>\n",
       "      <td>28.0</td>\n",
       "    </tr>\n",
       "    <tr>\n",
       "      <th>3</th>\n",
       "      <td>3.0</td>\n",
       "      <td>4.0</td>\n",
       "      <td>11.0</td>\n",
       "      <td>Témoin</td>\n",
       "      <td>420.00</td>\n",
       "      <td>17.50</td>\n",
       "      <td>2652.0</td>\n",
       "      <td>4.0</td>\n",
       "      <td>4.0</td>\n",
       "      <td>4.0</td>\n",
       "      <td>4.0</td>\n",
       "      <td>12.0</td>\n",
       "      <td>16.0</td>\n",
       "      <td>16.0</td>\n",
       "    </tr>\n",
       "    <tr>\n",
       "      <th>4</th>\n",
       "      <td>4.0</td>\n",
       "      <td>1.0</td>\n",
       "      <td>11.0</td>\n",
       "      <td>Témoin</td>\n",
       "      <td>432.89</td>\n",
       "      <td>18.04</td>\n",
       "      <td>2646.0</td>\n",
       "      <td>4.0</td>\n",
       "      <td>4.0</td>\n",
       "      <td>16.0</td>\n",
       "      <td>16.0</td>\n",
       "      <td>24.0</td>\n",
       "      <td>32.0</td>\n",
       "      <td>36.0</td>\n",
       "    </tr>\n",
       "  </tbody>\n",
       "</table>\n",
       "</div>"
      ],
      "text/plain": [
       "   Bancs  camera  zone     Pop  5_degres_C_TMG_h  5_degres_C_TMG_j  \\\n",
       "0    3.0     1.0  11.0  Témoin            414.00             17.25   \n",
       "1    3.0     2.0  11.0  Témoin            430.86             17.95   \n",
       "2    3.0     3.0  11.0  Témoin            382.86             15.95   \n",
       "3    3.0     4.0  11.0  Témoin            420.00             17.50   \n",
       "4    4.0     1.0  11.0  Témoin            432.89             18.04   \n",
       "\n",
       "   Aire_sous_la_courbe  15_j  16_j  17_j  18_j  19_j  20_j  21_j  \n",
       "0               2652.0   4.0  16.0  20.0  24.0  32.0  36.0  40.0  \n",
       "1               2652.0   0.0   4.0   4.0  12.0  24.0  28.0  28.0  \n",
       "2               2652.0   8.0  12.0  20.0  20.0  20.0  24.0  28.0  \n",
       "3               2652.0   4.0   4.0   4.0   4.0  12.0  16.0  16.0  \n",
       "4               2646.0   4.0   4.0  16.0  16.0  24.0  32.0  36.0  "
      ]
     },
     "execution_count": 1,
     "metadata": {},
     "output_type": "execute_result"
    }
   ],
   "source": [
    "import pandas as pd\n",
    "\n",
    "pd.set_option('display.max_rows', 500)\n",
    "pd.set_option('display.max_columns', 500)\n",
    "\n",
    "path_School = \"/users/mmath/wade/Bureau/Master_DS/Projets/Data_viz/Synthese_donnees_des_semis.csv\"\n",
    "path_Home = \"/home/malick/Bureau/Projets/Projets_Malick_fayad/Data_viz/Synthese_donnees_des_semis.csv\"\n",
    "\n",
    "df = pd.read_csv(path_Home,  sep='\\t',  decimal=\",\")\n",
    "\n",
    "df.head()"
   ]
  },
  {
   "cell_type": "code",
   "execution_count": 2,
   "metadata": {},
   "outputs": [
    {
     "data": {
      "text/plain": [
       "Bancs                  float64\n",
       "camera                 float64\n",
       "zone                   float64\n",
       "Pop                     object\n",
       "5_degres_C_TMG_h       float64\n",
       "5_degres_C_TMG_j       float64\n",
       "Aire_sous_la_courbe    float64\n",
       "15_j                   float64\n",
       "16_j                   float64\n",
       "17_j                   float64\n",
       "18_j                   float64\n",
       "19_j                   float64\n",
       "20_j                   float64\n",
       "21_j                   float64\n",
       "dtype: object"
      ]
     },
     "execution_count": 2,
     "metadata": {},
     "output_type": "execute_result"
    }
   ],
   "source": [
    "df.dtypes"
   ]
  },
  {
   "cell_type": "code",
   "execution_count": 3,
   "metadata": {},
   "outputs": [
    {
     "data": {
      "text/plain": [
       "Bancs                  1\n",
       "camera                 1\n",
       "zone                   1\n",
       "Pop                    0\n",
       "5_degres_C_TMG_h       2\n",
       "5_degres_C_TMG_j       2\n",
       "Aire_sous_la_courbe    1\n",
       "15_j                   1\n",
       "16_j                   1\n",
       "17_j                   1\n",
       "18_j                   1\n",
       "19_j                   1\n",
       "20_j                   1\n",
       "21_j                   1\n",
       "dtype: int64"
      ]
     },
     "execution_count": 3,
     "metadata": {},
     "output_type": "execute_result"
    }
   ],
   "source": [
    "df.isnull().sum()"
   ]
  },
  {
   "cell_type": "markdown",
   "metadata": {},
   "source": [
    "On voit que notre jeux de données posséde des lignes avec avec au moins un e valeur manquante.  \n",
    "On choisit de les supprimer, ce qui représente une perte de 2 lignes d'observations de données"
   ]
  },
  {
   "cell_type": "code",
   "execution_count": 4,
   "metadata": {},
   "outputs": [
    {
     "name": "stdout",
     "output_type": "stream",
     "text": [
      "En supprimant les lignes avec des valeurs manquantes, on a une perte de données de  0.02 %\n"
     ]
    }
   ],
   "source": [
    "Perte_de_donnees = df.shape[0]\n",
    "df = df.dropna()\n",
    "Perte_de_donnees = (Perte_de_donnees - df.shape[0])/100\n",
    "\n",
    "print(\"En supprimant les lignes avec des valeurs manquantes, on a une perte de données de \", Perte_de_donnees,\"%\")"
   ]
  },
  {
   "cell_type": "code",
   "execution_count": 5,
   "metadata": {},
   "outputs": [
    {
     "data": {
      "text/plain": [
       "Bancs                  0\n",
       "camera                 0\n",
       "zone                   0\n",
       "Pop                    0\n",
       "5_degres_C_TMG_h       0\n",
       "5_degres_C_TMG_j       0\n",
       "Aire_sous_la_courbe    0\n",
       "15_j                   0\n",
       "16_j                   0\n",
       "17_j                   0\n",
       "18_j                   0\n",
       "19_j                   0\n",
       "20_j                   0\n",
       "21_j                   0\n",
       "dtype: int64"
      ]
     },
     "execution_count": 5,
     "metadata": {},
     "output_type": "execute_result"
    }
   ],
   "source": [
    "df.isnull().sum()"
   ]
  },
  {
   "cell_type": "code",
   "execution_count": 6,
   "metadata": {},
   "outputs": [],
   "source": [
    "col_pairplot = [\"5_degres_C_TMG_h\", \"5_degres_C_TMG_j\", \"Aire_sous_la_courbe\", \"15_j\", \"16_j\", \"17_j\", \"18_j\", \"19_j\", \"20_j\", \"21_j\"]"
   ]
  },
  {
   "cell_type": "code",
   "execution_count": 7,
   "metadata": {
    "scrolled": true
   },
   "outputs": [],
   "source": [
    "import seaborn as sns\n",
    "sns.set(style=\"ticks\", color_codes=True)\n",
    "\n",
    "g = sns.pairplot(df[col_pairplot])"
   ]
  },
  {
   "cell_type": "code",
   "execution_count": 8,
   "metadata": {},
   "outputs": [
    {
     "data": {
      "text/plain": [
       "PCA(copy=True, iterated_power='auto', n_components=10, random_state=None,\n",
       "    svd_solver='auto', tol=0.0, whiten=False)"
      ]
     },
     "execution_count": 8,
     "metadata": {},
     "output_type": "execute_result"
    }
   ],
   "source": [
    "from sklearn.decomposition import PCA\n",
    "\n",
    "Col_ACP = [\"15_j\", \"16_j\", \"17_j\", \"18_j\", \"19_j\", \"20_j\", \"21_j\"]\n",
    "ACP = PCA(n_components=10)\n",
    "ACP.fit(df[col_pairplot])"
   ]
  },
  {
   "cell_type": "code",
   "execution_count": 9,
   "metadata": {},
   "outputs": [
    {
     "data": {
      "text/plain": [
       "array([9.99932591e-01, 5.07595359e-05, 7.27611752e-06, 4.23162706e-06,\n",
       "       1.90026319e-06, 1.32987933e-06, 9.71355258e-07, 6.10914527e-07,\n",
       "       3.29434322e-07, 9.10144132e-13])"
      ]
     },
     "execution_count": 9,
     "metadata": {},
     "output_type": "execute_result"
    }
   ],
   "source": [
    "ACP.explained_variance_ratio_"
   ]
  },
  {
   "cell_type": "markdown",
   "metadata": {},
   "source": [
    "On voit que "
   ]
  },
  {
   "cell_type": "code",
   "execution_count": 10,
   "metadata": {},
   "outputs": [
    {
     "data": {
      "text/plain": [
       "9.99"
      ]
     },
     "execution_count": 10,
     "metadata": {},
     "output_type": "execute_result"
    }
   ],
   "source": [
    "9.99"
   ]
  },
  {
   "cell_type": "code",
   "execution_count": null,
   "metadata": {},
   "outputs": [],
   "source": []
  }
 ],
 "metadata": {
  "kernelspec": {
   "display_name": "Python 3",
   "language": "python",
   "name": "python3"
  },
  "language_info": {
   "codemirror_mode": {
    "name": "ipython",
    "version": 3
   },
   "file_extension": ".py",
   "mimetype": "text/x-python",
   "name": "python",
   "nbconvert_exporter": "python",
   "pygments_lexer": "ipython3",
   "version": "3.6.8"
  }
 },
 "nbformat": 4,
 "nbformat_minor": 2
}
