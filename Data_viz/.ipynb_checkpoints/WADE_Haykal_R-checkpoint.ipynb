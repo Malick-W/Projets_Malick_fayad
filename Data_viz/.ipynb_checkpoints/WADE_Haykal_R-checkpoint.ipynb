{
 "cells": [
  {
   "cell_type": "code",
   "execution_count": null,
   "metadata": {},
   "outputs": [],
   "source": [
    "install.packages(\"FactoMineR\")\n",
    "install.packages(\"DataCombine\")\n",
    "install.packages(\"readr\")"
   ]
  },
  {
   "cell_type": "code",
   "execution_count": 5,
   "metadata": {},
   "outputs": [
    {
     "name": "stderr",
     "output_type": "stream",
     "text": [
      "Installing package into ‘/usr/local/spark-2.4.4-bin-hadoop2.7/R/lib’\n",
      "(as ‘lib’ is unspecified)\n",
      "also installing the dependencies ‘clipr’, ‘BH’, ‘rematch’, ‘prettyunits’, ‘forcats’, ‘hms’, ‘readr’, ‘cellranger’, ‘progress’, ‘zip’, ‘SparseM’, ‘MatrixModels’, ‘sp’, ‘foreign’, ‘haven’, ‘data.table’, ‘readxl’, ‘openxlsx’, ‘boot’, ‘minqa’, ‘nloptr’, ‘RcppEigen’, ‘carData’, ‘abind’, ‘nnet’, ‘pbkrtest’, ‘quantreg’, ‘maptools’, ‘rio’, ‘lme4’, ‘car’, ‘cluster’, ‘ellipse’, ‘flashClust’, ‘leaps’, ‘scatterplot3d’\n",
      "\n",
      "Warning message in install.packages(\"FactoMineR\"):\n",
      "“installation of package ‘lme4’ had non-zero exit status”Warning message in install.packages(\"FactoMineR\"):\n",
      "“installation of package ‘haven’ had non-zero exit status”Warning message in install.packages(\"FactoMineR\"):\n",
      "“installation of package ‘pbkrtest’ had non-zero exit status”Warning message in install.packages(\"FactoMineR\"):\n",
      "“installation of package ‘rio’ had non-zero exit status”Warning message in install.packages(\"FactoMineR\"):\n",
      "“installation of package ‘car’ had non-zero exit status”Warning message in install.packages(\"FactoMineR\"):\n",
      "“installation of package ‘FactoMineR’ had non-zero exit status”"
     ]
    }
   ],
   "source": [
    "library(\"readr\")\n",
    "library(\"DataCombine\")\n",
    "library(\"FactoMineR\")"
   ]
  },
  {
   "cell_type": "code",
   "execution_count": 6,
   "metadata": {},
   "outputs": [
    {
     "name": "stderr",
     "output_type": "stream",
     "text": [
      "Warning message:\n",
      "“3 parsing failures.\n",
      "row              col   expected    actual                             file\n",
      "868 5_degres_C_TMG_h a number   NaN       'Synthese_donnees_des_semis.csv'\n",
      "868 5_degres_C_TMG_j a number   NaN       'Synthese_donnees_des_semis.csv'\n",
      "961 NA               14 columns 9 columns 'Synthese_donnees_des_semis.csv'\n",
      "”"
     ]
    },
    {
     "ename": "ERROR",
     "evalue": "Error in DropNA(Synthese_donnees_des_semis): could not find function \"DropNA\"\n",
     "output_type": "error",
     "traceback": [
      "Error in DropNA(Synthese_donnees_des_semis): could not find function \"DropNA\"\nTraceback:\n"
     ]
    }
   ],
   "source": [
    "library(\"readr\")\n",
    "Synthese_donnees_des_semis = read_delim(\"Synthese_donnees_des_semis.csv\", \n",
    "                                         \"\\t\", escape_double = FALSE, col_types = cols(`15_j` = col_number(), \n",
    "                                                                                       `16_j` = col_number(), `17_j` = col_number(), \n",
    "                                                                                       `18_j` = col_number(), `19_j` = col_number(), \n",
    "                                                                                       `20_j` = col_number(), `21_j` = col_number(), \n",
    "                                                                                       `5_degres_C_TMG_h` = col_number(), \n",
    "                                                                                       `5_degres_C_TMG_j` = col_number(), \n",
    "                                                                                       Aire_sous_la_courbe = col_number(), \n",
    "                                                                                       Bancs = col_character(), camera = col_character(), \n",
    "                                                                                       zone = col_character()), trim_ws = TRUE)\n",
    "\n",
    "synth = DropNA(Synthese_donnees_des_semis)\n",
    "attach(synth)\n",
    "\n",
    "library(DataCombine)\n",
    "synth2=synth[c(8:14)]"
   ]
  }
 ],
 "metadata": {
  "kernelspec": {
   "display_name": "R",
   "language": "R",
   "name": "ir"
  },
  "language_info": {
   "codemirror_mode": "r",
   "file_extension": ".r",
   "mimetype": "text/x-r-source",
   "name": "R",
   "pygments_lexer": "r",
   "version": "3.6.1"
  }
 },
 "nbformat": 4,
 "nbformat_minor": 2
}
