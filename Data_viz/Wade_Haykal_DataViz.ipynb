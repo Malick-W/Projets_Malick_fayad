{
 "cells": [
  {
   "cell_type": "markdown",
   "metadata": {},
   "source": [
    "# Master Data Science Data_VIZ\n",
    "### WADE El Hadji Malick\n",
    "### HAYKAL Fayad"
   ]
  },
  {
   "cell_type": "markdown",
   "metadata": {},
   "source": [
    "## 1. Chargement et Nettoyage des données "
   ]
  },
  {
   "cell_type": "code",
   "execution_count": 1,
   "metadata": {
    "scrolled": true
   },
   "outputs": [
    {
     "data": {
      "text/html": [
       "<div>\n",
       "<style scoped>\n",
       "    .dataframe tbody tr th:only-of-type {\n",
       "        vertical-align: middle;\n",
       "    }\n",
       "\n",
       "    .dataframe tbody tr th {\n",
       "        vertical-align: top;\n",
       "    }\n",
       "\n",
       "    .dataframe thead th {\n",
       "        text-align: right;\n",
       "    }\n",
       "</style>\n",
       "<table border=\"1\" class=\"dataframe\">\n",
       "  <thead>\n",
       "    <tr style=\"text-align: right;\">\n",
       "      <th></th>\n",
       "      <th>Bancs</th>\n",
       "      <th>camera</th>\n",
       "      <th>zone</th>\n",
       "      <th>Pop</th>\n",
       "      <th>5_degres_C_TMG_h</th>\n",
       "      <th>5_degres_C_TMG_j</th>\n",
       "      <th>Aire_sous_la_courbe</th>\n",
       "      <th>15_j</th>\n",
       "      <th>16_j</th>\n",
       "      <th>17_j</th>\n",
       "      <th>18_j</th>\n",
       "      <th>19_j</th>\n",
       "      <th>20_j</th>\n",
       "      <th>21_j</th>\n",
       "    </tr>\n",
       "  </thead>\n",
       "  <tbody>\n",
       "    <tr>\n",
       "      <td>0</td>\n",
       "      <td>3.0</td>\n",
       "      <td>1.0</td>\n",
       "      <td>11.0</td>\n",
       "      <td>Témoin</td>\n",
       "      <td>414.00</td>\n",
       "      <td>17.25</td>\n",
       "      <td>2652.0</td>\n",
       "      <td>4.0</td>\n",
       "      <td>16.0</td>\n",
       "      <td>20.0</td>\n",
       "      <td>24.0</td>\n",
       "      <td>32.0</td>\n",
       "      <td>36.0</td>\n",
       "      <td>40.0</td>\n",
       "    </tr>\n",
       "    <tr>\n",
       "      <td>1</td>\n",
       "      <td>3.0</td>\n",
       "      <td>2.0</td>\n",
       "      <td>11.0</td>\n",
       "      <td>Témoin</td>\n",
       "      <td>430.86</td>\n",
       "      <td>17.95</td>\n",
       "      <td>2652.0</td>\n",
       "      <td>0.0</td>\n",
       "      <td>4.0</td>\n",
       "      <td>4.0</td>\n",
       "      <td>12.0</td>\n",
       "      <td>24.0</td>\n",
       "      <td>28.0</td>\n",
       "      <td>28.0</td>\n",
       "    </tr>\n",
       "    <tr>\n",
       "      <td>2</td>\n",
       "      <td>3.0</td>\n",
       "      <td>3.0</td>\n",
       "      <td>11.0</td>\n",
       "      <td>Témoin</td>\n",
       "      <td>382.86</td>\n",
       "      <td>15.95</td>\n",
       "      <td>2652.0</td>\n",
       "      <td>8.0</td>\n",
       "      <td>12.0</td>\n",
       "      <td>20.0</td>\n",
       "      <td>20.0</td>\n",
       "      <td>20.0</td>\n",
       "      <td>24.0</td>\n",
       "      <td>28.0</td>\n",
       "    </tr>\n",
       "    <tr>\n",
       "      <td>3</td>\n",
       "      <td>3.0</td>\n",
       "      <td>4.0</td>\n",
       "      <td>11.0</td>\n",
       "      <td>Témoin</td>\n",
       "      <td>420.00</td>\n",
       "      <td>17.50</td>\n",
       "      <td>2652.0</td>\n",
       "      <td>4.0</td>\n",
       "      <td>4.0</td>\n",
       "      <td>4.0</td>\n",
       "      <td>4.0</td>\n",
       "      <td>12.0</td>\n",
       "      <td>16.0</td>\n",
       "      <td>16.0</td>\n",
       "    </tr>\n",
       "    <tr>\n",
       "      <td>4</td>\n",
       "      <td>4.0</td>\n",
       "      <td>1.0</td>\n",
       "      <td>11.0</td>\n",
       "      <td>Témoin</td>\n",
       "      <td>432.89</td>\n",
       "      <td>18.04</td>\n",
       "      <td>2646.0</td>\n",
       "      <td>4.0</td>\n",
       "      <td>4.0</td>\n",
       "      <td>16.0</td>\n",
       "      <td>16.0</td>\n",
       "      <td>24.0</td>\n",
       "      <td>32.0</td>\n",
       "      <td>36.0</td>\n",
       "    </tr>\n",
       "    <tr>\n",
       "      <td>5</td>\n",
       "      <td>4.0</td>\n",
       "      <td>2.0</td>\n",
       "      <td>11.0</td>\n",
       "      <td>Témoin</td>\n",
       "      <td>413.82</td>\n",
       "      <td>17.24</td>\n",
       "      <td>2646.0</td>\n",
       "      <td>8.0</td>\n",
       "      <td>12.0</td>\n",
       "      <td>20.0</td>\n",
       "      <td>32.0</td>\n",
       "      <td>36.0</td>\n",
       "      <td>36.0</td>\n",
       "      <td>44.0</td>\n",
       "    </tr>\n",
       "    <tr>\n",
       "      <td>6</td>\n",
       "      <td>4.0</td>\n",
       "      <td>3.0</td>\n",
       "      <td>11.0</td>\n",
       "      <td>Témoin</td>\n",
       "      <td>446.80</td>\n",
       "      <td>18.62</td>\n",
       "      <td>2646.0</td>\n",
       "      <td>4.0</td>\n",
       "      <td>4.0</td>\n",
       "      <td>8.0</td>\n",
       "      <td>16.0</td>\n",
       "      <td>20.0</td>\n",
       "      <td>24.0</td>\n",
       "      <td>40.0</td>\n",
       "    </tr>\n",
       "    <tr>\n",
       "      <td>7</td>\n",
       "      <td>4.0</td>\n",
       "      <td>4.0</td>\n",
       "      <td>11.0</td>\n",
       "      <td>Témoin</td>\n",
       "      <td>429.60</td>\n",
       "      <td>17.90</td>\n",
       "      <td>2646.0</td>\n",
       "      <td>0.0</td>\n",
       "      <td>0.0</td>\n",
       "      <td>8.0</td>\n",
       "      <td>8.0</td>\n",
       "      <td>12.0</td>\n",
       "      <td>20.0</td>\n",
       "      <td>20.0</td>\n",
       "    </tr>\n",
       "    <tr>\n",
       "      <td>8</td>\n",
       "      <td>3.0</td>\n",
       "      <td>1.0</td>\n",
       "      <td>11.0</td>\n",
       "      <td>Témoin</td>\n",
       "      <td>354.22</td>\n",
       "      <td>14.76</td>\n",
       "      <td>5731.2</td>\n",
       "      <td>16.0</td>\n",
       "      <td>28.0</td>\n",
       "      <td>28.0</td>\n",
       "      <td>32.0</td>\n",
       "      <td>36.0</td>\n",
       "      <td>36.0</td>\n",
       "      <td>36.0</td>\n",
       "    </tr>\n",
       "    <tr>\n",
       "      <td>9</td>\n",
       "      <td>3.0</td>\n",
       "      <td>2.0</td>\n",
       "      <td>26.0</td>\n",
       "      <td>Témoin</td>\n",
       "      <td>377.78</td>\n",
       "      <td>15.74</td>\n",
       "      <td>5731.2</td>\n",
       "      <td>12.0</td>\n",
       "      <td>20.0</td>\n",
       "      <td>20.0</td>\n",
       "      <td>20.0</td>\n",
       "      <td>32.0</td>\n",
       "      <td>36.0</td>\n",
       "      <td>36.0</td>\n",
       "    </tr>\n",
       "  </tbody>\n",
       "</table>\n",
       "</div>"
      ],
      "text/plain": [
       "   Bancs  camera  zone     Pop  5_degres_C_TMG_h  5_degres_C_TMG_j  \\\n",
       "0    3.0     1.0  11.0  Témoin            414.00             17.25   \n",
       "1    3.0     2.0  11.0  Témoin            430.86             17.95   \n",
       "2    3.0     3.0  11.0  Témoin            382.86             15.95   \n",
       "3    3.0     4.0  11.0  Témoin            420.00             17.50   \n",
       "4    4.0     1.0  11.0  Témoin            432.89             18.04   \n",
       "5    4.0     2.0  11.0  Témoin            413.82             17.24   \n",
       "6    4.0     3.0  11.0  Témoin            446.80             18.62   \n",
       "7    4.0     4.0  11.0  Témoin            429.60             17.90   \n",
       "8    3.0     1.0  11.0  Témoin            354.22             14.76   \n",
       "9    3.0     2.0  26.0  Témoin            377.78             15.74   \n",
       "\n",
       "   Aire_sous_la_courbe  15_j  16_j  17_j  18_j  19_j  20_j  21_j  \n",
       "0               2652.0   4.0  16.0  20.0  24.0  32.0  36.0  40.0  \n",
       "1               2652.0   0.0   4.0   4.0  12.0  24.0  28.0  28.0  \n",
       "2               2652.0   8.0  12.0  20.0  20.0  20.0  24.0  28.0  \n",
       "3               2652.0   4.0   4.0   4.0   4.0  12.0  16.0  16.0  \n",
       "4               2646.0   4.0   4.0  16.0  16.0  24.0  32.0  36.0  \n",
       "5               2646.0   8.0  12.0  20.0  32.0  36.0  36.0  44.0  \n",
       "6               2646.0   4.0   4.0   8.0  16.0  20.0  24.0  40.0  \n",
       "7               2646.0   0.0   0.0   8.0   8.0  12.0  20.0  20.0  \n",
       "8               5731.2  16.0  28.0  28.0  32.0  36.0  36.0  36.0  \n",
       "9               5731.2  12.0  20.0  20.0  20.0  32.0  36.0  36.0  "
      ]
     },
     "execution_count": 1,
     "metadata": {},
     "output_type": "execute_result"
    }
   ],
   "source": [
    "import pandas as pd\n",
    "import numpy as np\n",
    "\n",
    "pd.set_option('display.max_rows', 500)\n",
    "pd.set_option('display.max_columns', 500)\n",
    "\n",
    "#path_School = \"/users/mmath/wade/Bureau/Master_DS/Projets/Data_viz/Synthese_donnees_des_semis.csv\"\n",
    "path_Malick = \"Synthese_donnees_des_semis.csv\"\n",
    "\n",
    "df = pd.read_csv(path_Malick,  sep='\\t',  decimal=\",\")\n",
    "\n",
    "df.head(10)"
   ]
  },
  {
   "cell_type": "code",
   "execution_count": 2,
   "metadata": {},
   "outputs": [
    {
     "name": "stdout",
     "output_type": "stream",
     "text": [
      "Lignes:  961\n",
      "Colonnes:  14\n",
      "---------------\n",
      "\n",
      "Variables:\n",
      "Bancs                  float64\n",
      "camera                 float64\n",
      "zone                   float64\n",
      "Pop                     object\n",
      "5_degres_C_TMG_h       float64\n",
      "5_degres_C_TMG_j       float64\n",
      "Aire_sous_la_courbe    float64\n",
      "15_j                   float64\n",
      "16_j                   float64\n",
      "17_j                   float64\n",
      "18_j                   float64\n",
      "19_j                   float64\n",
      "20_j                   float64\n",
      "21_j                   float64\n",
      "dtype: object\n",
      "\n",
      "Valeurs uniques :\n",
      "Bancs                    2\n",
      "camera                   4\n",
      "zone                    24\n",
      "Pop                      6\n",
      "5_degres_C_TMG_h       699\n",
      "5_degres_C_TMG_j       365\n",
      "Aire_sous_la_courbe    686\n",
      "15_j                    17\n",
      "16_j                    20\n",
      "17_j                    22\n",
      "18_j                    23\n",
      "19_j                    23\n",
      "20_j                    24\n",
      "21_j                    25\n",
      "dtype: int64\n"
     ]
    }
   ],
   "source": [
    "print (\"Lignes: \" ,df.shape[0])\n",
    "print (\"Colonnes: \" ,df.shape[1])\n",
    "print(\"---------------\")\n",
    "print (\"\\nVariables:\")\n",
    "print(df.dtypes)\n",
    "print (\"\\nValeurs uniques :\")\n",
    "print(df.nunique())"
   ]
  },
  {
   "cell_type": "code",
   "execution_count": 3,
   "metadata": {},
   "outputs": [
    {
     "name": "stdout",
     "output_type": "stream",
     "text": [
      "\n",
      "Total des valeurs manquantes :   16\n",
      "\n",
      "\n",
      "Bancs                  1\n",
      "camera                 1\n",
      "zone                   1\n",
      "Pop                    1\n",
      "5_degres_C_TMG_h       2\n",
      "5_degres_C_TMG_j       2\n",
      "Aire_sous_la_courbe    1\n",
      "15_j                   1\n",
      "16_j                   1\n",
      "17_j                   1\n",
      "18_j                   1\n",
      "19_j                   1\n",
      "20_j                   1\n",
      "21_j                   1\n",
      "dtype: int64\n"
     ]
    }
   ],
   "source": [
    "print (\"\\nTotal des valeurs manquantes :  \",df.isnull().sum().values.sum())\n",
    "\n",
    "print(\"\\n\")\n",
    "print(df.isnull().sum())"
   ]
  },
  {
   "cell_type": "markdown",
   "metadata": {},
   "source": [
    "On voit que notre jeux de données posséde des lignes avec avec au moins un e valeur manquante.  \n",
    "On choisit de les supprimer, ce qui représente une perte de 2 lignes d'observations de données"
   ]
  },
  {
   "cell_type": "code",
   "execution_count": 4,
   "metadata": {},
   "outputs": [
    {
     "name": "stdout",
     "output_type": "stream",
     "text": [
      "En supprimant les lignes avec des valeurs manquantes, on a une perte de données de  0.02 %\n"
     ]
    }
   ],
   "source": [
    "Perte_de_donnees = df.shape[0]\n",
    "df = df.dropna()\n",
    "\n",
    "Perte_de_donnees = (Perte_de_donnees - df.shape[0])/100\n",
    "\n",
    "print(\"En supprimant les lignes avec des valeurs manquantes, on a une perte de données de \", Perte_de_donnees,\"%\")"
   ]
  },
  {
   "cell_type": "code",
   "execution_count": 5,
   "metadata": {},
   "outputs": [
    {
     "data": {
      "text/plain": [
       "Bancs                  0\n",
       "camera                 0\n",
       "zone                   0\n",
       "Pop                    0\n",
       "5_degres_C_TMG_h       0\n",
       "5_degres_C_TMG_j       0\n",
       "Aire_sous_la_courbe    0\n",
       "15_j                   0\n",
       "16_j                   0\n",
       "17_j                   0\n",
       "18_j                   0\n",
       "19_j                   0\n",
       "20_j                   0\n",
       "21_j                   0\n",
       "dtype: int64"
      ]
     },
     "execution_count": 5,
     "metadata": {},
     "output_type": "execute_result"
    }
   ],
   "source": [
    "df.isnull().sum()"
   ]
  },
  {
   "cell_type": "code",
   "execution_count": 6,
   "metadata": {
    "scrolled": false
   },
   "outputs": [
    {
     "data": {
      "text/plain": [
       "<seaborn.axisgrid.PairGrid at 0x7fe8b4f96908>"
      ]
     },
     "execution_count": 6,
     "metadata": {},
     "output_type": "execute_result"
    }
   ],
   "source": [
    "import seaborn as sns\n",
    "\n",
    "Col_pairplot = [\"5_degres_C_TMG_h\", \"5_degres_C_TMG_j\", \"Aire_sous_la_courbe\", \"15_j\", \"16_j\", \"17_j\", \"18_j\", \"19_j\", \"20_j\", \"21_j\"]\n",
    "\n",
    "sns.set(style=\"ticks\", color_codes=True)\n",
    "g = sns.pairplot(df, vars=Col_pairplot, height=3.5)\n",
    "g"
   ]
  },
  {
   "cell_type": "markdown",
   "metadata": {},
   "source": [
    "## 2. Réduction de dimensions / ACP"
   ]
  },
  {
   "cell_type": "code",
   "execution_count": 7,
   "metadata": {
    "scrolled": false
   },
   "outputs": [
    {
     "data": {
      "image/png": "[encoded data removed]",
      "text/plain": [
       "<Figure size 720x720 with 2 Axes>"
      ]
     },
     "metadata": {
      "needs_background": "light"
     },
     "output_type": "display_data"
    }
   ],
   "source": [
    "import matplotlib.pyplot as plt\n",
    "\n",
    "fig = plt.figure(1, figsize=(10, 10))\n",
    "\n",
    "sns.heatmap(round(df[Col_pairplot].corr(),2), cmap=sns.diverging_palette(20, 220, n=200),annot=True, fmt=\".2f\")\n",
    "plt.show()"
   ]
  },
  {
   "cell_type": "raw",
   "metadata": {},
   "source": [
    "On remarque que plusieurs variables sont fortement corrélées entre elles et deux variables sont parfaitement corrélée(\"5_degres_C_TMG_h\" et \"5_degres_C_TMG_j\"). On supprime la variable df[\"5_degres_C_TMG_h\"]"
   ]
  },
  {
   "cell_type": "code",
   "execution_count": 8,
   "metadata": {},
   "outputs": [],
   "source": [
    "df.drop([\"5_degres_C_TMG_h\"], axis = 1, inplace = True) "
   ]
  },
  {
   "cell_type": "code",
   "execution_count": 9,
   "metadata": {},
   "outputs": [
    {
     "data": {
      "text/html": [
       "<div>\n",
       "<style scoped>\n",
       "    .dataframe tbody tr th:only-of-type {\n",
       "        vertical-align: middle;\n",
       "    }\n",
       "\n",
       "    .dataframe tbody tr th {\n",
       "        vertical-align: top;\n",
       "    }\n",
       "\n",
       "    .dataframe thead th {\n",
       "        text-align: right;\n",
       "    }\n",
       "</style>\n",
       "<table border=\"1\" class=\"dataframe\">\n",
       "  <thead>\n",
       "    <tr style=\"text-align: right;\">\n",
       "      <th></th>\n",
       "      <th>Bancs</th>\n",
       "      <th>camera</th>\n",
       "      <th>zone</th>\n",
       "      <th>Pop</th>\n",
       "      <th>5_degres_C_TMG_j</th>\n",
       "      <th>Aire_sous_la_courbe</th>\n",
       "      <th>15_j</th>\n",
       "      <th>16_j</th>\n",
       "      <th>17_j</th>\n",
       "      <th>18_j</th>\n",
       "      <th>19_j</th>\n",
       "      <th>20_j</th>\n",
       "      <th>21_j</th>\n",
       "    </tr>\n",
       "  </thead>\n",
       "  <tbody>\n",
       "    <tr>\n",
       "      <td>0</td>\n",
       "      <td>3.0</td>\n",
       "      <td>1.0</td>\n",
       "      <td>11.0</td>\n",
       "      <td>Témoin</td>\n",
       "      <td>17.25</td>\n",
       "      <td>2652.0</td>\n",
       "      <td>4.0</td>\n",
       "      <td>16.0</td>\n",
       "      <td>20.0</td>\n",
       "      <td>24.0</td>\n",
       "      <td>32.0</td>\n",
       "      <td>36.0</td>\n",
       "      <td>40.0</td>\n",
       "    </tr>\n",
       "    <tr>\n",
       "      <td>1</td>\n",
       "      <td>3.0</td>\n",
       "      <td>2.0</td>\n",
       "      <td>11.0</td>\n",
       "      <td>Témoin</td>\n",
       "      <td>17.95</td>\n",
       "      <td>2652.0</td>\n",
       "      <td>0.0</td>\n",
       "      <td>4.0</td>\n",
       "      <td>4.0</td>\n",
       "      <td>12.0</td>\n",
       "      <td>24.0</td>\n",
       "      <td>28.0</td>\n",
       "      <td>28.0</td>\n",
       "    </tr>\n",
       "    <tr>\n",
       "      <td>2</td>\n",
       "      <td>3.0</td>\n",
       "      <td>3.0</td>\n",
       "      <td>11.0</td>\n",
       "      <td>Témoin</td>\n",
       "      <td>15.95</td>\n",
       "      <td>2652.0</td>\n",
       "      <td>8.0</td>\n",
       "      <td>12.0</td>\n",
       "      <td>20.0</td>\n",
       "      <td>20.0</td>\n",
       "      <td>20.0</td>\n",
       "      <td>24.0</td>\n",
       "      <td>28.0</td>\n",
       "    </tr>\n",
       "    <tr>\n",
       "      <td>3</td>\n",
       "      <td>3.0</td>\n",
       "      <td>4.0</td>\n",
       "      <td>11.0</td>\n",
       "      <td>Témoin</td>\n",
       "      <td>17.50</td>\n",
       "      <td>2652.0</td>\n",
       "      <td>4.0</td>\n",
       "      <td>4.0</td>\n",
       "      <td>4.0</td>\n",
       "      <td>4.0</td>\n",
       "      <td>12.0</td>\n",
       "      <td>16.0</td>\n",
       "      <td>16.0</td>\n",
       "    </tr>\n",
       "    <tr>\n",
       "      <td>4</td>\n",
       "      <td>4.0</td>\n",
       "      <td>1.0</td>\n",
       "      <td>11.0</td>\n",
       "      <td>Témoin</td>\n",
       "      <td>18.04</td>\n",
       "      <td>2646.0</td>\n",
       "      <td>4.0</td>\n",
       "      <td>4.0</td>\n",
       "      <td>16.0</td>\n",
       "      <td>16.0</td>\n",
       "      <td>24.0</td>\n",
       "      <td>32.0</td>\n",
       "      <td>36.0</td>\n",
       "    </tr>\n",
       "  </tbody>\n",
       "</table>\n",
       "</div>"
      ],
      "text/plain": [
       "   Bancs  camera  zone     Pop  5_degres_C_TMG_j  Aire_sous_la_courbe  15_j  \\\n",
       "0    3.0     1.0  11.0  Témoin             17.25               2652.0   4.0   \n",
       "1    3.0     2.0  11.0  Témoin             17.95               2652.0   0.0   \n",
       "2    3.0     3.0  11.0  Témoin             15.95               2652.0   8.0   \n",
       "3    3.0     4.0  11.0  Témoin             17.50               2652.0   4.0   \n",
       "4    4.0     1.0  11.0  Témoin             18.04               2646.0   4.0   \n",
       "\n",
       "   16_j  17_j  18_j  19_j  20_j  21_j  \n",
       "0  16.0  20.0  24.0  32.0  36.0  40.0  \n",
       "1   4.0   4.0  12.0  24.0  28.0  28.0  \n",
       "2  12.0  20.0  20.0  20.0  24.0  28.0  \n",
       "3   4.0   4.0   4.0  12.0  16.0  16.0  \n",
       "4   4.0  16.0  16.0  24.0  32.0  36.0  "
      ]
     },
     "execution_count": 9,
     "metadata": {},
     "output_type": "execute_result"
    }
   ],
   "source": [
    "df.head()"
   ]
  },
  {
   "cell_type": "code",
   "execution_count": 10,
   "metadata": {},
   "outputs": [],
   "source": [
    "#classe pour l'ACP\n",
    "from sklearn.decomposition import PCA\n",
    "\n",
    "Col_ACP = [\"15_j\", \"16_j\", \"17_j\", \"18_j\", \"19_j\", \"20_j\", \"21_j\"]\n",
    "\n",
    "#instanciation\n",
    "acp = PCA(n_components=2)\n",
    "\n",
    "#calculs\n",
    "acp.fit(df[Col_ACP])\n",
    "ACP_parielle = acp.transform(df[Col_ACP])"
   ]
  },
  {
   "cell_type": "code",
   "execution_count": 11,
   "metadata": {},
   "outputs": [
    {
     "data": {
      "text/plain": [
       "array([0.92431978, 0.05146348])"
      ]
     },
     "execution_count": 11,
     "metadata": {},
     "output_type": "execute_result"
    }
   ],
   "source": [
    "#proportions de variance associées aux axes\n",
    "acp.explained_variance_ratio_"
   ]
  },
  {
   "cell_type": "code",
   "execution_count": 12,
   "metadata": {},
   "outputs": [
    {
     "name": "stdout",
     "output_type": "stream",
     "text": [
      "Proportion de variance associée aux deux axes: 0.9758\n"
     ]
    }
   ],
   "source": [
    "#proportions de variance total associées aux axes\n",
    "print(\"Proportion de variance associée aux deux axes:\",round(sum(acp.explained_variance_ratio_),4))"
   ]
  },
  {
   "cell_type": "code",
   "execution_count": 13,
   "metadata": {},
   "outputs": [],
   "source": [
    "df_partielle = pd.DataFrame(ACP_parielle, columns=['X1','X2']) \n",
    "Col = [\"Bancs\", \"camera\", \"zone\", \"Pop\", \"5_degres_C_TMG_j\", \"Aire_sous_la_courbe\"]\n",
    "df_ACP_parielle = pd.concat([df[Col], df_partielle], axis=1)"
   ]
  },
  {
   "cell_type": "code",
   "execution_count": 14,
   "metadata": {},
   "outputs": [
    {
     "data": {
      "image/png": "[encoded data removed]",
      "text/plain": [
       "<Figure size 360x360 with 2 Axes>"
      ]
     },
     "metadata": {
      "needs_background": "light"
     },
     "output_type": "display_data"
    }
   ],
   "source": [
    "fig = plt.figure(1, figsize=(5, 5))\n",
    "\n",
    "sns.heatmap(round(df_ACP_parielle[[\"5_degres_C_TMG_j\", \"Aire_sous_la_courbe\", 'X1','X2']].corr(),2), cmap=sns.diverging_palette(20, 220, sep=100, n=200, as_cmap=True), annot=True)\n",
    "plt.show()"
   ]
  },
  {
   "cell_type": "raw",
   "metadata": {},
   "source": [
    "La variable \"Aire_sous_la_courbe\" est fortement corrélée avec la variable \"ACP_j\" (ce qui est plûtot rassurant). On décide de supprimer la variable \"Aire_sous_la_courbe\"."
   ]
  },
  {
   "cell_type": "code",
   "execution_count": 15,
   "metadata": {},
   "outputs": [],
   "source": [
    "df_ACP_parielle.drop([\"Aire_sous_la_courbe\"], axis = 1, inplace = True) "
   ]
  },
  {
   "cell_type": "code",
   "execution_count": 16,
   "metadata": {},
   "outputs": [
    {
     "name": "stdout",
     "output_type": "stream",
     "text": [
      "\n",
      "Total des valeurs manquantes :   7\n",
      "\n",
      "\n",
      "Bancs               1\n",
      "camera              1\n",
      "zone                1\n",
      "Pop                 1\n",
      "5_degres_C_TMG_j    1\n",
      "X1                  1\n",
      "X2                  1\n",
      "dtype: int64\n"
     ]
    }
   ],
   "source": [
    "print (\"\\nTotal des valeurs manquantes :  \",df_ACP_parielle.isnull().sum().values.sum())\n",
    "\n",
    "print(\"\\n\")\n",
    "print(df_ACP_parielle.isnull().sum())"
   ]
  },
  {
   "cell_type": "code",
   "execution_count": 17,
   "metadata": {},
   "outputs": [],
   "source": [
    "df_ACP_parielle = df_ACP_parielle.dropna()"
   ]
  },
  {
   "cell_type": "code",
   "execution_count": 18,
   "metadata": {},
   "outputs": [
    {
     "data": {
      "text/html": [
       "<div>\n",
       "<style scoped>\n",
       "    .dataframe tbody tr th:only-of-type {\n",
       "        vertical-align: middle;\n",
       "    }\n",
       "\n",
       "    .dataframe tbody tr th {\n",
       "        vertical-align: top;\n",
       "    }\n",
       "\n",
       "    .dataframe thead th {\n",
       "        text-align: right;\n",
       "    }\n",
       "</style>\n",
       "<table border=\"1\" class=\"dataframe\">\n",
       "  <thead>\n",
       "    <tr style=\"text-align: right;\">\n",
       "      <th></th>\n",
       "      <th>Bancs</th>\n",
       "      <th>camera</th>\n",
       "      <th>zone</th>\n",
       "      <th>Pop</th>\n",
       "      <th>5_degres_C_TMG_j</th>\n",
       "      <th>X1</th>\n",
       "      <th>X2</th>\n",
       "    </tr>\n",
       "  </thead>\n",
       "  <tbody>\n",
       "    <tr>\n",
       "      <td>0</td>\n",
       "      <td>3</td>\n",
       "      <td>1</td>\n",
       "      <td>11</td>\n",
       "      <td>Témoin</td>\n",
       "      <td>17.25</td>\n",
       "      <td>-29.347070</td>\n",
       "      <td>4.334175</td>\n",
       "    </tr>\n",
       "    <tr>\n",
       "      <td>1</td>\n",
       "      <td>3</td>\n",
       "      <td>2</td>\n",
       "      <td>11</td>\n",
       "      <td>Témoin</td>\n",
       "      <td>17.95</td>\n",
       "      <td>-56.953843</td>\n",
       "      <td>7.857620</td>\n",
       "    </tr>\n",
       "    <tr>\n",
       "      <td>2</td>\n",
       "      <td>3</td>\n",
       "      <td>3</td>\n",
       "      <td>11</td>\n",
       "      <td>Témoin</td>\n",
       "      <td>15.95</td>\n",
       "      <td>-46.399069</td>\n",
       "      <td>-7.491244</td>\n",
       "    </tr>\n",
       "    <tr>\n",
       "      <td>3</td>\n",
       "      <td>3</td>\n",
       "      <td>4</td>\n",
       "      <td>11</td>\n",
       "      <td>Témoin</td>\n",
       "      <td>17.50</td>\n",
       "      <td>-74.363199</td>\n",
       "      <td>-6.115965</td>\n",
       "    </tr>\n",
       "    <tr>\n",
       "      <td>4</td>\n",
       "      <td>4</td>\n",
       "      <td>1</td>\n",
       "      <td>11</td>\n",
       "      <td>Témoin</td>\n",
       "      <td>18.04</td>\n",
       "      <td>-44.776618</td>\n",
       "      <td>6.841234</td>\n",
       "    </tr>\n",
       "  </tbody>\n",
       "</table>\n",
       "</div>"
      ],
      "text/plain": [
       "   Bancs  camera  zone     Pop  5_degres_C_TMG_j         X1        X2\n",
       "0      3       1    11  Témoin             17.25 -29.347070  4.334175\n",
       "1      3       2    11  Témoin             17.95 -56.953843  7.857620\n",
       "2      3       3    11  Témoin             15.95 -46.399069 -7.491244\n",
       "3      3       4    11  Témoin             17.50 -74.363199 -6.115965\n",
       "4      4       1    11  Témoin             18.04 -44.776618  6.841234"
      ]
     },
     "execution_count": 18,
     "metadata": {},
     "output_type": "execute_result"
    }
   ],
   "source": [
    "df_ACP_parielle[[\"Bancs\", \"camera\", \"zone\"]] = df_ACP_parielle[[\"Bancs\", \"camera\", \"zone\"]].astype(int)\n",
    "df_ACP_parielle.head()"
   ]
  },
  {
   "cell_type": "markdown",
   "metadata": {},
   "source": [
    "## 3. Graphes avec une ACP partielle"
   ]
  },
  {
   "cell_type": "code",
   "execution_count": 19,
   "metadata": {},
   "outputs": [
    {
     "name": "stdout",
     "output_type": "stream",
     "text": [
      "\n",
      "Valeurs uniques :\n",
      "Bancs                    2\n",
      "camera                   4\n",
      "zone                    24\n",
      "Pop                      6\n",
      "5_degres_C_TMG_j       365\n",
      "Aire_sous_la_courbe    685\n",
      "15_j                    17\n",
      "16_j                    20\n",
      "17_j                    22\n",
      "18_j                    23\n",
      "19_j                    23\n",
      "20_j                    23\n",
      "21_j                    24\n",
      "dtype: int64\n"
     ]
    },
    {
     "data": {
      "text/html": [
       "<div>\n",
       "<style scoped>\n",
       "    .dataframe tbody tr th:only-of-type {\n",
       "        vertical-align: middle;\n",
       "    }\n",
       "\n",
       "    .dataframe tbody tr th {\n",
       "        vertical-align: top;\n",
       "    }\n",
       "\n",
       "    .dataframe thead th {\n",
       "        text-align: right;\n",
       "    }\n",
       "</style>\n",
       "<table border=\"1\" class=\"dataframe\">\n",
       "  <thead>\n",
       "    <tr style=\"text-align: right;\">\n",
       "      <th></th>\n",
       "      <th>Bancs</th>\n",
       "      <th>camera</th>\n",
       "      <th>zone</th>\n",
       "      <th>Pop</th>\n",
       "      <th>5_degres_C_TMG_j</th>\n",
       "      <th>X1</th>\n",
       "      <th>X2</th>\n",
       "    </tr>\n",
       "  </thead>\n",
       "  <tbody>\n",
       "    <tr>\n",
       "      <td>0</td>\n",
       "      <td>3</td>\n",
       "      <td>1</td>\n",
       "      <td>11</td>\n",
       "      <td>Témoin</td>\n",
       "      <td>17.25</td>\n",
       "      <td>-29.347070</td>\n",
       "      <td>4.334175</td>\n",
       "    </tr>\n",
       "    <tr>\n",
       "      <td>1</td>\n",
       "      <td>3</td>\n",
       "      <td>2</td>\n",
       "      <td>11</td>\n",
       "      <td>Témoin</td>\n",
       "      <td>17.95</td>\n",
       "      <td>-56.953843</td>\n",
       "      <td>7.857620</td>\n",
       "    </tr>\n",
       "    <tr>\n",
       "      <td>2</td>\n",
       "      <td>3</td>\n",
       "      <td>3</td>\n",
       "      <td>11</td>\n",
       "      <td>Témoin</td>\n",
       "      <td>15.95</td>\n",
       "      <td>-46.399069</td>\n",
       "      <td>-7.491244</td>\n",
       "    </tr>\n",
       "    <tr>\n",
       "      <td>3</td>\n",
       "      <td>3</td>\n",
       "      <td>4</td>\n",
       "      <td>11</td>\n",
       "      <td>Témoin</td>\n",
       "      <td>17.50</td>\n",
       "      <td>-74.363199</td>\n",
       "      <td>-6.115965</td>\n",
       "    </tr>\n",
       "    <tr>\n",
       "      <td>4</td>\n",
       "      <td>4</td>\n",
       "      <td>1</td>\n",
       "      <td>11</td>\n",
       "      <td>Témoin</td>\n",
       "      <td>18.04</td>\n",
       "      <td>-44.776618</td>\n",
       "      <td>6.841234</td>\n",
       "    </tr>\n",
       "  </tbody>\n",
       "</table>\n",
       "</div>"
      ],
      "text/plain": [
       "   Bancs  camera  zone     Pop  5_degres_C_TMG_j         X1        X2\n",
       "0      3       1    11  Témoin             17.25 -29.347070  4.334175\n",
       "1      3       2    11  Témoin             17.95 -56.953843  7.857620\n",
       "2      3       3    11  Témoin             15.95 -46.399069 -7.491244\n",
       "3      3       4    11  Témoin             17.50 -74.363199 -6.115965\n",
       "4      4       1    11  Témoin             18.04 -44.776618  6.841234"
      ]
     },
     "execution_count": 19,
     "metadata": {},
     "output_type": "execute_result"
    }
   ],
   "source": [
    "print (\"\\nValeurs uniques :\")\n",
    "print(df.nunique())\n",
    "df_ACP_parielle.head()"
   ]
  },
  {
   "cell_type": "code",
   "execution_count": 20,
   "metadata": {},
   "outputs": [
    {
     "name": "stdout",
     "output_type": "stream",
     "text": [
      "['Témoin' '803' '830' '802' '815' '812']\n"
     ]
    }
   ],
   "source": [
    "print(df_ACP_parielle.Pop.unique())"
   ]
  },
  {
   "cell_type": "code",
   "execution_count": 21,
   "metadata": {
    "scrolled": false
   },
   "outputs": [
    {
     "data": {
      "text/plain": [
       "Text(0.5, 0.9, 'Population: Témoin')"
      ]
     },
     "execution_count": 21,
     "metadata": {},
     "output_type": "execute_result"
    },
    {
     "data": {
      "image/png": "[encoded data removed]",
      "text/plain": [
       "<Figure size 720x720 with 1 Axes>"
      ]
     },
     "metadata": {},
     "output_type": "display_data"
    }
   ],
   "source": [
    "Y = [\"Bancs\", \"camera\", \"zone\"]\n",
    "y = 0 # une catégorie dans Y\n",
    "\n",
    "Pop = df_ACP_parielle.Pop.unique() # liste des différentes populations\n",
    "p = 0 # une population dans Pop\n",
    "\n",
    "df_Pop = df_ACP_parielle[df_ACP_parielle[\"Pop\"] == Pop[p]]\n",
    "\n",
    "\n",
    "sns.set(style=\"darkgrid\")\n",
    "filled_markers = ('o', 'X', '<',  'D','8', 's', 'p', '*', 'h', '>', 'H', 'd', 'P', '^')\n",
    "plt.figure(figsize=(10,10))\n",
    "sns.scatterplot(x=\"X1\", y=\"X2\" ,hue=Y[y], palette=\"viridis\", markers=filled_markers, data=df_Pop, s =50)\n",
    "plt.figtext(.5,.9,\"Population: \"+Pop[p], fontsize=20, ha='center')"
   ]
  },
  {
   "cell_type": "markdown",
   "metadata": {},
   "source": [
    "#### Conclusions: "
   ]
  },
  {
   "cell_type": "code",
   "execution_count": 22,
   "metadata": {},
   "outputs": [],
   "source": [
    "# df['Bancs']=pd.Categorical(df['Bancs'])\n",
    "# df['camera']=pd.Categorical(df['camera'])\n",
    "# df['zone']=pd.Categorical(df['zone'])\n",
    "# df['Pop']=pd.Categorical(df['Pop'])\n",
    "# df1 = df[df[\"Pop\"] == '830']\n",
    "# df2 = df[df[\"Pop\"] == '803']\n",
    "# df3 = df[df[\"Pop\"] == '812']\n",
    "# df4 = df[df[\"Pop\"] == 'Témoin']\n",
    "# df5 = df[df[\"Pop\"] == '802']\n",
    "# df6 = df[df[\"Pop\"] == '815']\n",
    "#df.groupby('Bancs')['15_j','16_j','17_j','18_j','19_j','20_j','21_j'].mean().plot(kind='bar')\n",
    "#df1.groupby('Bancs')['15_j','16_j','17_j','18_j','19_j','20_j','21_j'].mean().plot(kind='line')\n",
    "#df2.groupby('Bancs')['15_j','16_j','17_j','18_j','19_j','20_j','21_j'].mean().plot(kind='line')\n",
    "#df3.groupby('Bancs')['15_j','16_j','17_j','18_j','19_j','20_j','21_j'].mean().plot(kind='line')\n",
    "# df4.groupby('Bancs')['15_j','16_j','17_j','18_j','19_j','20_j','21_j'].mean().plot(kind='bar')\n",
    "# df5.groupby('Bancs')['15_j','16_j','17_j','18_j','19_j','20_j','21_j'].mean().plot(kind='bar')\n",
    "# df6.groupby('Bancs')['15_j','16_j','17_j','18_j','19_j','20_j','21_j'].mean().plot(kind='bar')\n",
    "# df.groupby('camera')['15_j','16_j','17_j','18_j','19_j','20_j','21_j'].mean().plot(kind='line')\n",
    "# df1.groupby('camera')['15_j','16_j','17_j','18_j','19_j','20_j','21_j'].mean().plot(kind='line')\n",
    "# df2.groupby('camera')['15_j','16_j','17_j','18_j','19_j','20_j','21_j'].mean().plot(kind='line')\n",
    "# df3.groupby('camera')['15_j','16_j','17_j','18_j','19_j','20_j','21_j'].mean().plot(kind='line')\n",
    "# df4.groupby('camera')['15_j','16_j','17_j','18_j','19_j','20_j','21_j'].mean().plot(kind='line')\n",
    "# df5.groupby('camera')['15_j','16_j','17_j','18_j','19_j','20_j','21_j'].mean().plot(kind='line')\n",
    "#df6.groupby('camera')['15_j','16_j','17_j','18_j','19_j','20_j','21_j'].mean().plot(kind='line')\n",
    "# df.groupby('zone')['15_j','16_j','17_j','18_j','19_j','20_j','21_j'].mean().plot(kind='line')\n",
    "# df1.groupby('zone')['15_j','16_j','17_j','18_j','19_j','20_j','21_j'].mean().plot(kind='line')\n",
    "# df2.groupby('zone')['15_j','16_j','17_j','18_j','19_j','20_j','21_j'].mean().plot(kind='line')\n",
    "# df3.groupby('zone')['15_j','16_j','17_j','18_j','19_j','20_j','21_j'].mean().plot(kind='line')\n",
    "# df4.groupby('zone')['15_j','16_j','17_j','18_j','19_j','20_j','21_j'].mean().plot(kind='line')\n",
    "# df5.groupby('zone')['15_j','16_j','17_j','18_j','19_j','20_j','21_j'].mean().plot(kind='line')\n",
    "# df6.groupby('zone')['15_j','16_j','17_j','18_j','19_j','20_j','21_j'].mean().plot(kind='line')"
   ]
  },
  {
   "cell_type": "markdown",
   "metadata": {},
   "source": [
    "## 4. ANOVA "
   ]
  },
  {
   "cell_type": "raw",
   "metadata": {},
   "source": [
    "VOIR CODE SUR R"
   ]
  },
  {
   "cell_type": "markdown",
   "metadata": {},
   "source": [
    "## 5. Prédictions"
   ]
  },
  {
   "cell_type": "raw",
   "metadata": {},
   "source": [
    "Une tranformation des variables est necéssaire. Icic toutes les variables de types 'Object' seront indexées."
   ]
  },
  {
   "cell_type": "code",
   "execution_count": 23,
   "metadata": {},
   "outputs": [
    {
     "name": "stderr",
     "output_type": "stream",
     "text": [
      "/opt/conda/lib/python3.7/site-packages/sklearn/externals/joblib/__init__.py:15: DeprecationWarning: sklearn.externals.joblib is deprecated in 0.21 and will be removed in 0.23. Please import this functionality directly from joblib, which can be installed with: pip install joblib. If this warning is raised when loading pickled models, you may need to re-serialize those models with scikit-learn 0.21+.\n",
      "  warnings.warn(msg, category=DeprecationWarning)\n"
     ]
    }
   ],
   "source": [
    "import time\n",
    "from sklearn.preprocessing import LabelEncoder\n",
    "from sklearn.model_selection import train_test_split\n",
    "from sklearn.model_selection import GridSearchCV\n",
    "from sklearn.metrics import classification_report, confusion_matrix\n",
    "from sklearn.decomposition import PCA\n",
    "\n",
    "from sklearn.svm import SVC\n",
    "from sklearn.neighbors import KNeighborsClassifier\n",
    "from sklearn.ensemble import VotingClassifier\n",
    "from sklearn.linear_model import LogisticRegression\n",
    "\n",
    "from sklearn.ensemble import GradientBoostingRegressor\n",
    "\n",
    "from sklearn.externals import joblib # save and load models\n",
    "\n",
    "def mean_absolute_percentage_error(y_true, y_pred): \n",
    "    return np.mean(np.abs((y_true - y_pred) / y_true))*100"
   ]
  },
  {
   "cell_type": "code",
   "execution_count": 24,
   "metadata": {},
   "outputs": [],
   "source": [
    "# def object_to_int(dataframe_series):\n",
    "#     \"\"\"une simple fonction d'indexation\"\"\"\n",
    "    \n",
    "#     if dataframe_series.dtype=='object':\n",
    "#         dataframe_series = LabelEncoder().fit_transform(dataframe_series)\n",
    "#     return dataframe_series"
   ]
  },
  {
   "cell_type": "code",
   "execution_count": 25,
   "metadata": {},
   "outputs": [
    {
     "data": {
      "text/html": [
       "<div>\n",
       "<style scoped>\n",
       "    .dataframe tbody tr th:only-of-type {\n",
       "        vertical-align: middle;\n",
       "    }\n",
       "\n",
       "    .dataframe tbody tr th {\n",
       "        vertical-align: top;\n",
       "    }\n",
       "\n",
       "    .dataframe thead th {\n",
       "        text-align: right;\n",
       "    }\n",
       "</style>\n",
       "<table border=\"1\" class=\"dataframe\">\n",
       "  <thead>\n",
       "    <tr style=\"text-align: right;\">\n",
       "      <th></th>\n",
       "      <th>Bancs</th>\n",
       "      <th>camera</th>\n",
       "      <th>zone</th>\n",
       "      <th>Pop</th>\n",
       "      <th>5_degres_C_TMG_j</th>\n",
       "      <th>Aire_sous_la_courbe</th>\n",
       "      <th>15_j</th>\n",
       "      <th>16_j</th>\n",
       "      <th>17_j</th>\n",
       "      <th>18_j</th>\n",
       "      <th>19_j</th>\n",
       "      <th>20_j</th>\n",
       "      <th>21_j</th>\n",
       "    </tr>\n",
       "  </thead>\n",
       "  <tbody>\n",
       "    <tr>\n",
       "      <td>0</td>\n",
       "      <td>3</td>\n",
       "      <td>1</td>\n",
       "      <td>11</td>\n",
       "      <td>Témoin</td>\n",
       "      <td>17.25</td>\n",
       "      <td>2652.0</td>\n",
       "      <td>4.0</td>\n",
       "      <td>16.0</td>\n",
       "      <td>20.0</td>\n",
       "      <td>24.0</td>\n",
       "      <td>32.0</td>\n",
       "      <td>36.0</td>\n",
       "      <td>40.0</td>\n",
       "    </tr>\n",
       "    <tr>\n",
       "      <td>1</td>\n",
       "      <td>3</td>\n",
       "      <td>2</td>\n",
       "      <td>11</td>\n",
       "      <td>Témoin</td>\n",
       "      <td>17.95</td>\n",
       "      <td>2652.0</td>\n",
       "      <td>0.0</td>\n",
       "      <td>4.0</td>\n",
       "      <td>4.0</td>\n",
       "      <td>12.0</td>\n",
       "      <td>24.0</td>\n",
       "      <td>28.0</td>\n",
       "      <td>28.0</td>\n",
       "    </tr>\n",
       "    <tr>\n",
       "      <td>2</td>\n",
       "      <td>3</td>\n",
       "      <td>3</td>\n",
       "      <td>11</td>\n",
       "      <td>Témoin</td>\n",
       "      <td>15.95</td>\n",
       "      <td>2652.0</td>\n",
       "      <td>8.0</td>\n",
       "      <td>12.0</td>\n",
       "      <td>20.0</td>\n",
       "      <td>20.0</td>\n",
       "      <td>20.0</td>\n",
       "      <td>24.0</td>\n",
       "      <td>28.0</td>\n",
       "    </tr>\n",
       "    <tr>\n",
       "      <td>3</td>\n",
       "      <td>3</td>\n",
       "      <td>4</td>\n",
       "      <td>11</td>\n",
       "      <td>Témoin</td>\n",
       "      <td>17.50</td>\n",
       "      <td>2652.0</td>\n",
       "      <td>4.0</td>\n",
       "      <td>4.0</td>\n",
       "      <td>4.0</td>\n",
       "      <td>4.0</td>\n",
       "      <td>12.0</td>\n",
       "      <td>16.0</td>\n",
       "      <td>16.0</td>\n",
       "    </tr>\n",
       "    <tr>\n",
       "      <td>4</td>\n",
       "      <td>4</td>\n",
       "      <td>1</td>\n",
       "      <td>11</td>\n",
       "      <td>Témoin</td>\n",
       "      <td>18.04</td>\n",
       "      <td>2646.0</td>\n",
       "      <td>4.0</td>\n",
       "      <td>4.0</td>\n",
       "      <td>16.0</td>\n",
       "      <td>16.0</td>\n",
       "      <td>24.0</td>\n",
       "      <td>32.0</td>\n",
       "      <td>36.0</td>\n",
       "    </tr>\n",
       "  </tbody>\n",
       "</table>\n",
       "</div>"
      ],
      "text/plain": [
       "   Bancs  camera  zone     Pop  5_degres_C_TMG_j  Aire_sous_la_courbe  15_j  \\\n",
       "0      3       1    11  Témoin             17.25               2652.0   4.0   \n",
       "1      3       2    11  Témoin             17.95               2652.0   0.0   \n",
       "2      3       3    11  Témoin             15.95               2652.0   8.0   \n",
       "3      3       4    11  Témoin             17.50               2652.0   4.0   \n",
       "4      4       1    11  Témoin             18.04               2646.0   4.0   \n",
       "\n",
       "   16_j  17_j  18_j  19_j  20_j  21_j  \n",
       "0  16.0  20.0  24.0  32.0  36.0  40.0  \n",
       "1   4.0   4.0  12.0  24.0  28.0  28.0  \n",
       "2  12.0  20.0  20.0  20.0  24.0  28.0  \n",
       "3   4.0   4.0   4.0  12.0  16.0  16.0  \n",
       "4   4.0  16.0  16.0  24.0  32.0  36.0  "
      ]
     },
     "execution_count": 25,
     "metadata": {},
     "output_type": "execute_result"
    }
   ],
   "source": [
    "Col_X = [\"Bancs\", \"camera\", \"zone\"]\n",
    "Col_Y = [\"15_j\", \"16_j\", \"17_j\", \"18_j\", \"19_j\", \"20_j\", \"21_j\"]\n",
    "\n",
    "# df = df.apply(lambda x: object_to_int(x))\n",
    "df[[\"Bancs\", \"camera\", \"zone\"]] = df[[\"Bancs\", \"camera\", \"zone\"]].astype(int)\n",
    "\n",
    "\n",
    "df.head()"
   ]
  },
  {
   "cell_type": "code",
   "execution_count": 26,
   "metadata": {
    "scrolled": false
   },
   "outputs": [
    {
     "name": "stdout",
     "output_type": "stream",
     "text": [
      "Lignes:  959\n",
      "Colonnes:  13\n",
      "---------------\n",
      "\n",
      "Variables:\n",
      "Bancs                    int64\n",
      "camera                   int64\n",
      "zone                     int64\n",
      "Pop                     object\n",
      "5_degres_C_TMG_j       float64\n",
      "Aire_sous_la_courbe    float64\n",
      "15_j                   float64\n",
      "16_j                   float64\n",
      "17_j                   float64\n",
      "18_j                   float64\n",
      "19_j                   float64\n",
      "20_j                   float64\n",
      "21_j                   float64\n",
      "dtype: object\n",
      "\n",
      "Valeurs uniques :\n",
      "Bancs                    2\n",
      "camera                   4\n",
      "zone                    24\n",
      "Pop                      6\n",
      "5_degres_C_TMG_j       365\n",
      "Aire_sous_la_courbe    685\n",
      "15_j                    17\n",
      "16_j                    20\n",
      "17_j                    22\n",
      "18_j                    23\n",
      "19_j                    23\n",
      "20_j                    23\n",
      "21_j                    24\n",
      "dtype: int64\n"
     ]
    }
   ],
   "source": [
    "print (\"Lignes: \" ,df.shape[0])\n",
    "print (\"Colonnes: \" ,df.shape[1])\n",
    "print(\"---------------\")\n",
    "print (\"\\nVariables:\")\n",
    "print(df.dtypes)\n",
    "print (\"\\nValeurs uniques :\")\n",
    "print(df.nunique())"
   ]
  },
  {
   "cell_type": "code",
   "execution_count": 27,
   "metadata": {
    "scrolled": false
   },
   "outputs": [
    {
     "data": {
      "text/html": [
       "<div>\n",
       "<style scoped>\n",
       "    .dataframe tbody tr th:only-of-type {\n",
       "        vertical-align: middle;\n",
       "    }\n",
       "\n",
       "    .dataframe tbody tr th {\n",
       "        vertical-align: top;\n",
       "    }\n",
       "\n",
       "    .dataframe thead th {\n",
       "        text-align: right;\n",
       "    }\n",
       "</style>\n",
       "<table border=\"1\" class=\"dataframe\">\n",
       "  <thead>\n",
       "    <tr style=\"text-align: right;\">\n",
       "      <th></th>\n",
       "      <th>Bancs</th>\n",
       "      <th>camera</th>\n",
       "      <th>zone</th>\n",
       "      <th>Pop</th>\n",
       "      <th>5_degres_C_TMG_j</th>\n",
       "      <th>Aire_sous_la_courbe</th>\n",
       "      <th>15_j</th>\n",
       "      <th>16_j</th>\n",
       "      <th>17_j</th>\n",
       "      <th>18_j</th>\n",
       "      <th>19_j</th>\n",
       "      <th>20_j</th>\n",
       "      <th>21_j</th>\n",
       "    </tr>\n",
       "  </thead>\n",
       "  <tbody>\n",
       "    <tr>\n",
       "      <td>0</td>\n",
       "      <td>3</td>\n",
       "      <td>1</td>\n",
       "      <td>11</td>\n",
       "      <td>Témoin</td>\n",
       "      <td>17.25</td>\n",
       "      <td>2652.0</td>\n",
       "      <td>4.0</td>\n",
       "      <td>16.0</td>\n",
       "      <td>20.0</td>\n",
       "      <td>24.0</td>\n",
       "      <td>32.0</td>\n",
       "      <td>36.0</td>\n",
       "      <td>40.0</td>\n",
       "    </tr>\n",
       "    <tr>\n",
       "      <td>1</td>\n",
       "      <td>3</td>\n",
       "      <td>2</td>\n",
       "      <td>11</td>\n",
       "      <td>Témoin</td>\n",
       "      <td>17.95</td>\n",
       "      <td>2652.0</td>\n",
       "      <td>0.0</td>\n",
       "      <td>4.0</td>\n",
       "      <td>4.0</td>\n",
       "      <td>12.0</td>\n",
       "      <td>24.0</td>\n",
       "      <td>28.0</td>\n",
       "      <td>28.0</td>\n",
       "    </tr>\n",
       "    <tr>\n",
       "      <td>2</td>\n",
       "      <td>3</td>\n",
       "      <td>3</td>\n",
       "      <td>11</td>\n",
       "      <td>Témoin</td>\n",
       "      <td>15.95</td>\n",
       "      <td>2652.0</td>\n",
       "      <td>8.0</td>\n",
       "      <td>12.0</td>\n",
       "      <td>20.0</td>\n",
       "      <td>20.0</td>\n",
       "      <td>20.0</td>\n",
       "      <td>24.0</td>\n",
       "      <td>28.0</td>\n",
       "    </tr>\n",
       "    <tr>\n",
       "      <td>3</td>\n",
       "      <td>3</td>\n",
       "      <td>4</td>\n",
       "      <td>11</td>\n",
       "      <td>Témoin</td>\n",
       "      <td>17.50</td>\n",
       "      <td>2652.0</td>\n",
       "      <td>4.0</td>\n",
       "      <td>4.0</td>\n",
       "      <td>4.0</td>\n",
       "      <td>4.0</td>\n",
       "      <td>12.0</td>\n",
       "      <td>16.0</td>\n",
       "      <td>16.0</td>\n",
       "    </tr>\n",
       "    <tr>\n",
       "      <td>4</td>\n",
       "      <td>4</td>\n",
       "      <td>1</td>\n",
       "      <td>11</td>\n",
       "      <td>Témoin</td>\n",
       "      <td>18.04</td>\n",
       "      <td>2646.0</td>\n",
       "      <td>4.0</td>\n",
       "      <td>4.0</td>\n",
       "      <td>16.0</td>\n",
       "      <td>16.0</td>\n",
       "      <td>24.0</td>\n",
       "      <td>32.0</td>\n",
       "      <td>36.0</td>\n",
       "    </tr>\n",
       "  </tbody>\n",
       "</table>\n",
       "</div>"
      ],
      "text/plain": [
       "   Bancs  camera  zone     Pop  5_degres_C_TMG_j  Aire_sous_la_courbe  15_j  \\\n",
       "0      3       1    11  Témoin             17.25               2652.0   4.0   \n",
       "1      3       2    11  Témoin             17.95               2652.0   0.0   \n",
       "2      3       3    11  Témoin             15.95               2652.0   8.0   \n",
       "3      3       4    11  Témoin             17.50               2652.0   4.0   \n",
       "4      4       1    11  Témoin             18.04               2646.0   4.0   \n",
       "\n",
       "   16_j  17_j  18_j  19_j  20_j  21_j  \n",
       "0  16.0  20.0  24.0  32.0  36.0  40.0  \n",
       "1   4.0   4.0  12.0  24.0  28.0  28.0  \n",
       "2  12.0  20.0  20.0  20.0  24.0  28.0  \n",
       "3   4.0   4.0   4.0  12.0  16.0  16.0  \n",
       "4   4.0  16.0  16.0  24.0  32.0  36.0  "
      ]
     },
     "execution_count": 27,
     "metadata": {},
     "output_type": "execute_result"
    }
   ],
   "source": [
    "df_save = df.copy()\n",
    "df_save.head()"
   ]
  },
  {
   "cell_type": "markdown",
   "metadata": {},
   "source": [
    "### a. Prédiction de la Germination sur l'ensemble de la Population"
   ]
  },
  {
   "cell_type": "code",
   "execution_count": 28,
   "metadata": {},
   "outputs": [],
   "source": [
    "jour = \"18_j\"\n",
    "\n",
    "df = df_save\n",
    "\n",
    "X = df[Col_X]\n",
    "y = df[jour]\n",
    "\n",
    "\n",
    "X_train, X_test, y_train, y_test = train_test_split(X,y,test_size = 0.25, random_state = 40)"
   ]
  },
  {
   "cell_type": "markdown",
   "metadata": {},
   "source": [
    "#### GradientBoosting"
   ]
  },
  {
   "cell_type": "code",
   "execution_count": 29,
   "metadata": {
    "scrolled": true
   },
   "outputs": [
    {
     "name": "stdout",
     "output_type": "stream",
     "text": [
      "Fitting 5 folds for each of 540 candidates, totalling 2700 fits\n"
     ]
    },
    {
     "name": "stderr",
     "output_type": "stream",
     "text": [
      "[Parallel(n_jobs=-1)]: Using backend LokyBackend with 4 concurrent workers.\n",
      "[Parallel(n_jobs=-1)]: Done   5 tasks      | elapsed:    1.2s\n",
      "[Parallel(n_jobs=-1)]: Done  10 tasks      | elapsed:    1.2s\n",
      "[Parallel(n_jobs=-1)]: Done  17 tasks      | elapsed:    1.2s\n",
      "[Parallel(n_jobs=-1)]: Batch computation too fast (0.1808s.) Setting batch_size=2.\n",
      "[Parallel(n_jobs=-1)]: Done  24 tasks      | elapsed:    1.3s\n",
      "[Parallel(n_jobs=-1)]: Batch computation too fast (0.0415s.) Setting batch_size=18.\n",
      "[Parallel(n_jobs=-1)]: Done  58 tasks      | elapsed:    1.6s\n",
      "[Parallel(n_jobs=-1)]: Done 220 tasks      | elapsed:    2.3s\n",
      "[Parallel(n_jobs=-1)]: Done 418 tasks      | elapsed:    3.2s\n",
      "[Parallel(n_jobs=-1)]: Done 616 tasks      | elapsed:    4.0s\n",
      "[Parallel(n_jobs=-1)]: Done 850 tasks      | elapsed:    5.0s\n",
      "[Parallel(n_jobs=-1)]: Done 1084 tasks      | elapsed:    6.1s\n",
      "[Parallel(n_jobs=-1)]: Done 1354 tasks      | elapsed:    7.2s\n",
      "[Parallel(n_jobs=-1)]: Done 1624 tasks      | elapsed:    8.5s\n",
      "[Parallel(n_jobs=-1)]: Done 1930 tasks      | elapsed:    9.7s\n",
      "[Parallel(n_jobs=-1)]: Done 2236 tasks      | elapsed:   11.0s\n",
      "[Parallel(n_jobs=-1)]: Done 2578 tasks      | elapsed:   12.5s\n"
     ]
    },
    {
     "name": "stdout",
     "output_type": "stream",
     "text": [
      "{'criterion': 'friedman_mse', 'learning_rate': 0.001, 'max_depth': 3, 'max_features': 'sqrt', 'min_samples_leaf': 0.01, 'n_estimators': 10, 'subsample': 1.0}\n"
     ]
    },
    {
     "name": "stderr",
     "output_type": "stream",
     "text": [
      "[Parallel(n_jobs=-1)]: Done 2700 out of 2700 | elapsed:   13.0s finished\n"
     ]
    }
   ],
   "source": [
    "import warnings\n",
    "warnings.filterwarnings(\"ignore\", category=DeprecationWarning)\n",
    "\n",
    "#on crée un nouveau modèle gradient Boosting\n",
    "GB = GradientBoostingRegressor()\n",
    "\n",
    "#on crée un dictionnaire de toutes les valeurs que nous voulons tester\n",
    "param_grid_GB = {\n",
    "    \"learning_rate\": [0.001, 0.01, 0.05, 0.1, 0.5],\n",
    "    \"min_samples_leaf\": [0.001, 0.005, 0.01],\n",
    "    \"max_depth\":[3, 5],\n",
    "    \"max_features\":[\"log2\",\"sqrt\"],\n",
    "    \"criterion\": [\"friedman_mse\"],\n",
    "    \"subsample\":[0.5, 0.75, 1.0],\n",
    "    \"n_estimators\":[10, 20,50],\n",
    "    }\n",
    "\n",
    "#on utilise gridsearch pour tester toutes les valeurs de param_grid\n",
    "GB_gscv = GridSearchCV(GB, param_grid_GB, cv=5, n_jobs=-1, verbose=10)\n",
    "\n",
    "#ajustement du modèle aux données\n",
    "t_debut = time.time()\n",
    "GB_gscv.fit(X_train,y_train)\n",
    "t_fin = time.time()\n",
    "\n",
    "temps_GB = (t_fin - t_debut)/60\n",
    "\n",
    "print(GB_gscv.best_params_)"
   ]
  },
  {
   "cell_type": "code",
   "execution_count": 30,
   "metadata": {},
   "outputs": [
    {
     "name": "stdout",
     "output_type": "stream",
     "text": [
      "L’erreur quadratique moyenne: 19.4527\n",
      "L’erreur absolue moyenne en pourcentage:  inf %\n",
      "L’erreur maximun: 51.5453\n",
      "Moyenne: 33.9667\n",
      "Mediane: 32.0000\n"
     ]
    }
   ],
   "source": [
    "from sklearn.metrics import mean_squared_error,max_error, explained_variance_score\n",
    "from math import sqrt\n",
    "\n",
    "rmse_test = sqrt(mean_squared_error(y_test, GB_gscv.best_estimator_.predict(X_test)))\n",
    "max_error = max_error(y_test, GB_gscv.best_estimator_.predict(X_test))\n",
    "mape = round(mean_absolute_percentage_error(y_test, GB_gscv.best_estimator_.predict(X_test)),2)\n",
    "\n",
    "print(\"L’erreur quadratique moyenne: %.4f\" % rmse_test)\n",
    "print(\"L’erreur absolue moyenne en pourcentage: \",mape,\"%\")\n",
    "print(\"L’erreur maximun: %.4f\" % max_error)\n",
    "print(\"Moyenne: %.4f\" %  y_test.mean())\n",
    "print(\"Mediane: %.4f\" %  y_test.median())"
   ]
  },
  {
   "cell_type": "code",
   "execution_count": 31,
   "metadata": {
    "scrolled": false
   },
   "outputs": [
    {
     "data": {
      "image/png": "[encoded data removed]",
      "text/plain": [
       "<Figure size 432x288 with 1 Axes>"
      ]
     },
     "metadata": {},
     "output_type": "display_data"
    }
   ],
   "source": [
    "model = GB_gscv.best_estimator_\n",
    "#print(model.feature_importances_) #use inbuilt class feature_importances of tree based classifiers\n",
    "#plot graph of feature importances for better visualization\n",
    "feat_importances = pd.Series(model.feature_importances_, index=X.columns)\n",
    "feat_importances.nlargest(20).plot(kind='barh')\n",
    "plt.figtext(.5,.9,\"Population \" +Pop[p]+\":\" +\"\\nErreur absolue moyenne en pourcentage de \" + str(mape)+\"%\", fontsize=12, ha='center')\n",
    "plt.show()"
   ]
  },
  {
   "cell_type": "markdown",
   "metadata": {},
   "source": [
    "### b. Prédiction de la Germination pour chaque type de Population à 18_j"
   ]
  },
  {
   "cell_type": "code",
   "execution_count": 33,
   "metadata": {
    "scrolled": false
   },
   "outputs": [
    {
     "data": {
      "image/png": "[encoded data removed]",
      "text/plain": [
       "<Figure size 432x288 with 1 Axes>"
      ]
     },
     "metadata": {},
     "output_type": "display_data"
    },
    {
     "data": {
      "image/png": "[encoded data removed]",
      "text/plain": [
       "<Figure size 432x288 with 1 Axes>"
      ]
     },
     "metadata": {},
     "output_type": "display_data"
    },
    {
     "data": {
      "image/png": "[encoded data removed]",
      "text/plain": [
       "<Figure size 432x288 with 1 Axes>"
      ]
     },
     "metadata": {},
     "output_type": "display_data"
    },
    {
     "data": {
      "image/png": "[encoded data removed]",
      "text/plain": [
       "<Figure size 432x288 with 1 Axes>"
      ]
     },
     "metadata": {},
     "output_type": "display_data"
    }
   ],
   "source": [
    "import warnings\n",
    "warnings.filterwarnings(\"ignore\", category=DeprecationWarning)\n",
    "\n",
    "Pop = df_ACP_parielle.Pop.unique() # liste des différentes populations\n",
    "\n",
    "jour = \"18_j\"\n",
    "\n",
    "#on crée un nouveau modèle gradient Boosting\n",
    "GB = GradientBoostingRegressor()\n",
    "\n",
    "#on crée un dictionnaire de toutes les valeurs que nous voulons tester\n",
    "param_grid_GB = {\n",
    "    \"learning_rate\": [0.001, 0.01, 0.05, 0.1, 0.5],\n",
    "    \"min_samples_leaf\": [0.001, 0.005, 0.01],\n",
    "    \"max_depth\":[3, 5],\n",
    "    \"max_features\":[\"log2\",\"sqrt\"],\n",
    "    \"criterion\": [\"friedman_mse\"],\n",
    "    \"subsample\":[0.5, 0.75, 1.0],\n",
    "    \"n_estimators\":[10, 20,50],\n",
    "    }\n",
    "\n",
    "#on utilise gridsearch pour tester toutes les valeurs de param_grid\n",
    "GB_gscv = GridSearchCV(GB, param_grid_GB, cv=5, n_jobs=-1, verbose=0)\n",
    "\n",
    "\n",
    "for p in Pop:\n",
    "    df = df_save[df_save[\"Pop\"] == p]\n",
    "    \n",
    "    X = df[Col_X]\n",
    "    y = df[jour]\n",
    "    \n",
    "    X_train, X_test, y_train, y_test = train_test_split(X,y,test_size = 0.25, random_state = 40)\n",
    "    GB_gscv.fit(X_train,y_train)\n",
    "    \n",
    "    MAPE = round(mean_absolute_percentage_error(y_test, GB_gscv.best_estimator_.predict(X_test)),2)\n",
    "    \n",
    "    if MAPE < 1000: # On ne répresente que les Gérmination avec des valeurs non nulles\n",
    "        model = GB_gscv.best_estimator_\n",
    "        feat_importances = pd.Series(model.feature_importances_, index=X.columns)\n",
    "        feat_importances.nlargest(20).plot(kind='barh')\n",
    "        plt.figtext(.5,.9,\"Population \" +p+\":\" +\"\\nErreur absolue moyenne en pourcentage de \" + str(MAPE)+\"%\", fontsize=12, ha='center')\n",
    "        plt.show()\n"
   ]
  },
  {
   "cell_type": "markdown",
   "metadata": {},
   "source": [
    "### b. Prédiction de la Germination de chaque Jour pour la Population 830"
   ]
  },
  {
   "cell_type": "code",
   "execution_count": 34,
   "metadata": {
    "scrolled": false
   },
   "outputs": [
    {
     "data": {
      "image/png": "[encoded data removed]",
      "text/plain": [
       "<Figure size 432x288 with 1 Axes>"
      ]
     },
     "metadata": {},
     "output_type": "display_data"
    },
    {
     "data": {
      "image/png": "[encoded data removed]",
      "text/plain": [
       "<Figure size 432x288 with 1 Axes>"
      ]
     },
     "metadata": {},
     "output_type": "display_data"
    },
    {
     "data": {
      "image/png": "[encoded data removed]",
      "text/plain": [
       "<Figure size 432x288 with 1 Axes>"
      ]
     },
     "metadata": {},
     "output_type": "display_data"
    },
    {
     "data": {
      "image/png": "[encoded data removed]",
      "text/plain": [
       "<Figure size 432x288 with 1 Axes>"
      ]
     },
     "metadata": {},
     "output_type": "display_data"
    },
    {
     "data": {
      "image/png": "[encoded data removed]",
      "text/plain": [
       "<Figure size 432x288 with 1 Axes>"
      ]
     },
     "metadata": {},
     "output_type": "display_data"
    },
    {
     "data": {
      "image/png": "[encoded data removed]",
      "text/plain": [
       "<Figure size 432x288 with 1 Axes>"
      ]
     },
     "metadata": {},
     "output_type": "display_data"
    },
    {
     "data": {
      "image/png": "[encoded data removed]",
      "text/plain": [
       "<Figure size 432x288 with 1 Axes>"
      ]
     },
     "metadata": {},
     "output_type": "display_data"
    }
   ],
   "source": [
    "import warnings\n",
    "warnings.filterwarnings(\"ignore\", category=DeprecationWarning)\n",
    "\n",
    "Col_Y = [\"15_j\", \"16_j\", \"17_j\", \"18_j\", \"19_j\", \"20_j\", \"21_j\"]\n",
    "\n",
    "#on crée un nouveau modèle gradient Boosting\n",
    "GB = GradientBoostingRegressor()\n",
    "\n",
    "#on crée un dictionnaire de toutes les valeurs que nous voulons tester\n",
    "param_grid_GB = {\n",
    "    \"learning_rate\": [0.001, 0.01, 0.05, 0.1, 0.5],\n",
    "    \"min_samples_leaf\": [0.001, 0.005, 0.01],\n",
    "    \"max_depth\":[3, 5],\n",
    "    \"max_features\":[\"log2\",\"sqrt\"],\n",
    "    \"criterion\": [\"friedman_mse\"],\n",
    "    \"subsample\":[0.5, 0.75, 1.0],\n",
    "    \"n_estimators\":[10, 20,50],\n",
    "    }\n",
    "\n",
    "#on utilise gridsearch pour tester toutes les valeurs de param_grid\n",
    "GB_gscv = GridSearchCV(GB, param_grid_GB, cv=5, n_jobs=-1, verbose=0)\n",
    "\n",
    "df = df_save[df_save[\"Pop\"] == '830']\n",
    "\n",
    "for jour in Col_Y:\n",
    "   \n",
    "    X = df[Col_X]\n",
    "    y = df[jour]\n",
    "    \n",
    "    X_train, X_test, y_train, y_test = train_test_split(X,y,test_size = 0.25, random_state = 40)\n",
    "    GB_gscv.fit(X_train,y_train)\n",
    "    \n",
    "    MAPE = round(mean_absolute_percentage_error(y_test, GB_gscv.best_estimator_.predict(X_test)),2)\n",
    "    \n",
    "    if MAPE < 1000: # On ne répresente que les Gérmination avec des valeurs non nulles\n",
    "        model = GB_gscv.best_estimator_\n",
    "        feat_importances = pd.Series(model.feature_importances_, index=X.columns)\n",
    "        feat_importances.nlargest(20).plot(kind='barh')\n",
    "        plt.figtext(.5,.9,\"Jour \" +jour+\":\" +\"\\nErreur absolue moyenne en pourcentage de \" + str(MAPE)+\"%\", fontsize=12, ha='center')\n",
    "        plt.show()\n"
   ]
  }
 ],
 "metadata": {
  "celltoolbar": "Aucun(e)",
  "kernelspec": {
   "display_name": "Python 3",
   "language": "python",
   "name": "python3"
  },
  "language_info": {
   "codemirror_mode": {
    "name": "ipython",
    "version": 3
   },
   "file_extension": ".py",
   "mimetype": "text/x-python",
   "name": "python",
   "nbconvert_exporter": "python",
   "pygments_lexer": "ipython3",
   "version": "3.7.3"
  }
 },
 "nbformat": 4,
 "nbformat_minor": 1
}
